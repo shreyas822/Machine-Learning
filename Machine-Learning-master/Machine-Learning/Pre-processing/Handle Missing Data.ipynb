{
 "cells": [
  {
   "cell_type": "code",
   "execution_count": 1,
   "metadata": {},
   "outputs": [],
   "source": [
    "# Import followed by Name of library and add a shortcut name 'np'\n",
    "import numpy as np"
   ]
  },
  {
   "cell_type": "code",
   "execution_count": 2,
   "metadata": {},
   "outputs": [],
   "source": [
    "# pyplot is a module in matplotlib\n",
    "import matplotlib.pyplot as plt"
   ]
  },
  {
   "cell_type": "code",
   "execution_count": 3,
   "metadata": {},
   "outputs": [],
   "source": [
    "import pandas as pd"
   ]
  },
  {
   "cell_type": "code",
   "execution_count": 4,
   "metadata": {},
   "outputs": [],
   "source": [
    "# pass the data from file into a variable 'dataset'\n",
    "dataset = pd.read_csv('Import_Missing_Dataset.csv')"
   ]
  },
  {
   "cell_type": "code",
   "execution_count": 42,
   "metadata": {},
   "outputs": [
    {
     "data": {
      "text/html": [
       "<div>\n",
       "<style scoped>\n",
       "    .dataframe tbody tr th:only-of-type {\n",
       "        vertical-align: middle;\n",
       "    }\n",
       "\n",
       "    .dataframe tbody tr th {\n",
       "        vertical-align: top;\n",
       "    }\n",
       "\n",
       "    .dataframe thead th {\n",
       "        text-align: right;\n",
       "    }\n",
       "</style>\n",
       "<table border=\"1\" class=\"dataframe\">\n",
       "  <thead>\n",
       "    <tr style=\"text-align: right;\">\n",
       "      <th></th>\n",
       "      <th>Name</th>\n",
       "      <th>Age</th>\n",
       "      <th>Gender</th>\n",
       "      <th>Salary</th>\n",
       "      <th>House</th>\n",
       "    </tr>\n",
       "  </thead>\n",
       "  <tbody>\n",
       "    <tr>\n",
       "      <th>0</th>\n",
       "      <td>Nat</td>\n",
       "      <td>21</td>\n",
       "      <td>F</td>\n",
       "      <td>20000.0</td>\n",
       "      <td>No</td>\n",
       "    </tr>\n",
       "    <tr>\n",
       "      <th>1</th>\n",
       "      <td>Michelle</td>\n",
       "      <td>61</td>\n",
       "      <td>M</td>\n",
       "      <td>80000.0</td>\n",
       "      <td>Yes</td>\n",
       "    </tr>\n",
       "    <tr>\n",
       "      <th>2</th>\n",
       "      <td>Ben</td>\n",
       "      <td>34</td>\n",
       "      <td>M</td>\n",
       "      <td>NaN</td>\n",
       "      <td>No</td>\n",
       "    </tr>\n",
       "    <tr>\n",
       "      <th>3</th>\n",
       "      <td>Joe</td>\n",
       "      <td>56</td>\n",
       "      <td>M</td>\n",
       "      <td>60000.0</td>\n",
       "      <td>Yes</td>\n",
       "    </tr>\n",
       "    <tr>\n",
       "      <th>4</th>\n",
       "      <td>Nancy</td>\n",
       "      <td>42</td>\n",
       "      <td>F</td>\n",
       "      <td>90000.0</td>\n",
       "      <td>Yes</td>\n",
       "    </tr>\n",
       "    <tr>\n",
       "      <th>5</th>\n",
       "      <td>Alfonso</td>\n",
       "      <td>51</td>\n",
       "      <td>M</td>\n",
       "      <td>100000.0</td>\n",
       "      <td>Yes</td>\n",
       "    </tr>\n",
       "    <tr>\n",
       "      <th>6</th>\n",
       "      <td>Jennifer</td>\n",
       "      <td>28</td>\n",
       "      <td>F</td>\n",
       "      <td>50000.0</td>\n",
       "      <td>No</td>\n",
       "    </tr>\n",
       "    <tr>\n",
       "      <th>7</th>\n",
       "      <td>Raj</td>\n",
       "      <td>67</td>\n",
       "      <td>M</td>\n",
       "      <td>NaN</td>\n",
       "      <td>Yes</td>\n",
       "    </tr>\n",
       "    <tr>\n",
       "      <th>8</th>\n",
       "      <td>Nathan</td>\n",
       "      <td>52</td>\n",
       "      <td>M</td>\n",
       "      <td>120000.0</td>\n",
       "      <td>Yes</td>\n",
       "    </tr>\n",
       "  </tbody>\n",
       "</table>\n",
       "</div>"
      ],
      "text/plain": [
       "       Name  Age Gender    Salary House\n",
       "0       Nat   21      F   20000.0    No\n",
       "1  Michelle   61      M   80000.0   Yes\n",
       "2       Ben   34      M       NaN    No\n",
       "3       Joe   56      M   60000.0   Yes\n",
       "4     Nancy   42      F   90000.0   Yes\n",
       "5   Alfonso   51      M  100000.0   Yes\n",
       "6  Jennifer   28      F   50000.0    No\n",
       "7       Raj   67      M       NaN   Yes\n",
       "8    Nathan   52      M  120000.0   Yes"
      ]
     },
     "execution_count": 42,
     "metadata": {},
     "output_type": "execute_result"
    }
   ],
   "source": [
    "dataset"
   ]
  },
  {
   "cell_type": "markdown",
   "metadata": {},
   "source": [
    "Missing data is represented as Nan in python. We can see two rows- 2 and 7 have missing salaries."
   ]
  },
  {
   "cell_type": "code",
   "execution_count": 43,
   "metadata": {},
   "outputs": [],
   "source": [
    "X = dataset.iloc[:, 0:4]\n",
    "y = dataset.iloc[:, -1:]"
   ]
  },
  {
   "cell_type": "code",
   "execution_count": 44,
   "metadata": {},
   "outputs": [
    {
     "name": "stdout",
     "output_type": "stream",
     "text": [
      "       Name  Age Gender    Salary\n",
      "0       Nat   21      F   20000.0\n",
      "1  Michelle   61      M   80000.0\n",
      "2       Ben   34      M       NaN\n",
      "3       Joe   56      M   60000.0\n",
      "4     Nancy   42      F   90000.0\n",
      "5   Alfonso   51      M  100000.0\n",
      "6  Jennifer   28      F   50000.0\n",
      "7       Raj   67      M       NaN\n",
      "8    Nathan   52      M  120000.0\n"
     ]
    }
   ],
   "source": [
    "print(X)\n"
   ]
  },
  {
   "cell_type": "code",
   "execution_count": 45,
   "metadata": {},
   "outputs": [
    {
     "name": "stdout",
     "output_type": "stream",
     "text": [
      "  House\n",
      "0    No\n",
      "1   Yes\n",
      "2    No\n",
      "3   Yes\n",
      "4   Yes\n",
      "5   Yes\n",
      "6    No\n",
      "7   Yes\n",
      "8   Yes\n"
     ]
    }
   ],
   "source": [
    "print(y)"
   ]
  },
  {
   "cell_type": "code",
   "execution_count": 46,
   "metadata": {},
   "outputs": [],
   "source": [
    "from sklearn.impute import SimpleImputer"
   ]
  },
  {
   "cell_type": "markdown",
   "metadata": {},
   "source": [
    "SimpleImputer is an Imputation transformer for completing missing values."
   ]
  },
  {
   "cell_type": "code",
   "execution_count": 30,
   "metadata": {},
   "outputs": [],
   "source": [
    "# Create an object of the class SimpleImputer and replace the missing salaries with the average salary\n",
    "imputer = SimpleImputer(missing_values=np.nan, strategy='mean')"
   ]
  },
  {
   "cell_type": "markdown",
   "metadata": {},
   "source": [
    "Call the class  SimpleImputer \n",
    "missing_values: The placeholder for the missing values.\n",
    "Strategy: Imputation strategy. Ex:\n",
    "    mean(default): replace missing values using the mean of the column\n",
    "    most_frequent: replace missing values with most frequent"
   ]
  },
  {
   "cell_type": "code",
   "execution_count": 34,
   "metadata": {},
   "outputs": [
    {
     "data": {
      "text/plain": [
       "SimpleImputer(add_indicator=False, copy=True, fill_value=None,\n",
       "              missing_values=nan, strategy='mean', verbose=0)"
      ]
     },
     "execution_count": 34,
     "metadata": {},
     "output_type": "execute_result"
    }
   ],
   "source": [
    "imputer.fit(X[:, 3:])"
   ]
  },
  {
   "cell_type": "markdown",
   "metadata": {},
   "source": [
    "Fit method will look for the missing values and compute the Mean. Pass the rows where missing data has to be searched and computed."
   ]
  },
  {
   "cell_type": "code",
   "execution_count": 39,
   "metadata": {},
   "outputs": [],
   "source": [
    "xy = imputer.transform(X[:, 3:])"
   ]
  },
  {
   "cell_type": "code",
   "execution_count": 40,
   "metadata": {},
   "outputs": [],
   "source": [
    "X[:, 3:] = xy"
   ]
  },
  {
   "cell_type": "markdown",
   "metadata": {},
   "source": [
    "Transform method will actually replace the missing values.\n",
    "The above statement, searches all the rows of our X dataset and column 3 i.e Salary and computes the Mean \n",
    "\n",
    "But this value has to be actually replaced in our dataset X. hence xy is passed to our missing row.\n",
    "Alternatively, we can also write it as:\n",
    "X[:, 3:] = imputer.transform(X[:, 3:])"
   ]
  },
  {
   "cell_type": "code",
   "execution_count": 41,
   "metadata": {},
   "outputs": [
    {
     "name": "stdout",
     "output_type": "stream",
     "text": [
      "[['Nat' 21 'F' 20000.0]\n",
      " ['Michelle' 61 'M' 80000.0]\n",
      " ['Ben' 34 'M' 74285.71428571429]\n",
      " ['Joe' 56 'M' 60000.0]\n",
      " ['Nancy' 42 'F' 90000.0]\n",
      " ['Alfonso' 51 'M' 100000.0]\n",
      " ['Jennifer' 28 'F' 50000.0]\n",
      " ['Raj' 67 'M' 74285.71428571429]\n",
      " ['Nathan' 52 'M' 120000.0]]\n"
     ]
    }
   ],
   "source": [
    "print(X)"
   ]
  },
  {
   "cell_type": "markdown",
   "metadata": {},
   "source": [
    "Now, when we pring our dataset X, we see the missing values being replaced by the mean of the column. "
   ]
  }
 ],
 "metadata": {
  "kernelspec": {
   "display_name": "Python 3",
   "language": "python",
   "name": "python3"
  },
  "language_info": {
   "codemirror_mode": {
    "name": "ipython",
    "version": 3
   },
   "file_extension": ".py",
   "mimetype": "text/x-python",
   "name": "python",
   "nbconvert_exporter": "python",
   "pygments_lexer": "ipython3",
   "version": "3.7.6"
  }
 },
 "nbformat": 4,
 "nbformat_minor": 4
}
