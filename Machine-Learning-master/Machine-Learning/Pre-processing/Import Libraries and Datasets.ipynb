{
 "cells": [
  {
   "cell_type": "markdown",
   "metadata": {},
   "source": [
    "In this area, we will see how to import libraries and data sets.Also we will see how to slice the datasets and divide them into Features, which is the data used to predict a value and Dependent vaector variable, which is the value to be predicted."
   ]
  },
  {
   "cell_type": "markdown",
   "metadata": {},
   "source": [
    "A library in Python contains a set of tools (called functions) that perform tasks on our data. Importing a library is like getting a piece of lab equipment out of a storage locker and setting it up on the bench for use in a project. Once a library is set up, it can be used or called to perform the task(s) it was built to do. "
   ]
  },
  {
   "cell_type": "code",
   "execution_count": 1,
   "metadata": {},
   "outputs": [],
   "source": [
    "# Import followed by Name of library and add a shortcut name 'np'\n",
    "import numpy as np"
   ]
  },
  {
   "cell_type": "markdown",
   "metadata": {},
   "source": [
    "Python doesn’t load all of the libraries available to it by default. \n",
    "We must add an import statement to our code in order to use library functions. \n",
    "To import a library, we use the syntax import libraryName and add a nickname which will represent the Library name \n",
    "throughout the code."
   ]
  },
  {
   "cell_type": "markdown",
   "metadata": {},
   "source": [
    "Importing data is one of the most essential and very first steps in any data related problem.\n",
    "There are many types of libraries like Scikit-Learn, NumPy,Pandas,Matplotlib etc"
   ]
  },
  {
   "cell_type": "markdown",
   "metadata": {},
   "source": [
    "Numpy has an extensive collection of high-level mathematical functions and implemented methods, which makes it possible to perform various operations with these objects."
   ]
  },
  {
   "cell_type": "code",
   "execution_count": 2,
   "metadata": {},
   "outputs": [],
   "source": [
    "# pyplot is a module in matplotlib.\n",
    "import matplotlib.pyplot as plt"
   ]
  },
  {
   "cell_type": "markdown",
   "metadata": {},
   "source": [
    "Matplotlib is used to visualize the data. Diverse charts, from histograms and scatterplots to non-Cartesian coordinates graphs can be built. Many popular plotting libraries are designed to work in conjunction with matplotlib."
   ]
  },
  {
   "cell_type": "code",
   "execution_count": 3,
   "metadata": {},
   "outputs": [],
   "source": [
    "import pandas as pd"
   ]
  },
  {
   "cell_type": "markdown",
   "metadata": {},
   "source": [
    "Pandas contains many built-in methods for grouping, filtering, and combining data, as well as the time-series functionality. "
   ]
  },
  {
   "cell_type": "code",
   "execution_count": 4,
   "metadata": {},
   "outputs": [],
   "source": [
    "# pass the data from file into a variable 'dataset'\n",
    "dataset = pd.read_csv('Import Dataset.csv')"
   ]
  },
  {
   "cell_type": "markdown",
   "metadata": {},
   "source": [
    "Once libraries are imported, the second step is to imporrt the data. Data is passed into datasets.\n",
    "\n",
    "Dataset is a 2-dimensional data structure that can store data of different types like a table or spreadsheet\n",
    "read_csv function from Pandas library is used to read the data from .CSV and pull the data directly into Dataset.\n",
    "\n",
    "Tab-separated, colon-separated or space separated files can also be used but CSV is most common.\n",
    "\n",
    "Now we have imported our dataset from excel to our dataset in python. We have our data ready."
   ]
  },
  {
   "cell_type": "code",
   "execution_count": 5,
   "metadata": {
    "scrolled": true
   },
   "outputs": [
    {
     "data": {
      "text/html": [
       "<div>\n",
       "<style scoped>\n",
       "    .dataframe tbody tr th:only-of-type {\n",
       "        vertical-align: middle;\n",
       "    }\n",
       "\n",
       "    .dataframe tbody tr th {\n",
       "        vertical-align: top;\n",
       "    }\n",
       "\n",
       "    .dataframe thead th {\n",
       "        text-align: right;\n",
       "    }\n",
       "</style>\n",
       "<table border=\"1\" class=\"dataframe\">\n",
       "  <thead>\n",
       "    <tr style=\"text-align: right;\">\n",
       "      <th></th>\n",
       "      <th>Name</th>\n",
       "      <th>Age</th>\n",
       "      <th>Gender</th>\n",
       "      <th>Salary</th>\n",
       "      <th>House</th>\n",
       "    </tr>\n",
       "  </thead>\n",
       "  <tbody>\n",
       "    <tr>\n",
       "      <th>0</th>\n",
       "      <td>Nat</td>\n",
       "      <td>21</td>\n",
       "      <td>F</td>\n",
       "      <td>20000</td>\n",
       "      <td>No</td>\n",
       "    </tr>\n",
       "    <tr>\n",
       "      <th>1</th>\n",
       "      <td>Michelle</td>\n",
       "      <td>61</td>\n",
       "      <td>M</td>\n",
       "      <td>80000</td>\n",
       "      <td>Yes</td>\n",
       "    </tr>\n",
       "    <tr>\n",
       "      <th>2</th>\n",
       "      <td>Ben</td>\n",
       "      <td>34</td>\n",
       "      <td>M</td>\n",
       "      <td>35000</td>\n",
       "      <td>No</td>\n",
       "    </tr>\n",
       "    <tr>\n",
       "      <th>3</th>\n",
       "      <td>Joe</td>\n",
       "      <td>56</td>\n",
       "      <td>M</td>\n",
       "      <td>60000</td>\n",
       "      <td>Yes</td>\n",
       "    </tr>\n",
       "    <tr>\n",
       "      <th>4</th>\n",
       "      <td>Nancy</td>\n",
       "      <td>42</td>\n",
       "      <td>F</td>\n",
       "      <td>48000</td>\n",
       "      <td>Yes</td>\n",
       "    </tr>\n",
       "  </tbody>\n",
       "</table>\n",
       "</div>"
      ],
      "text/plain": [
       "       Name  Age Gender  Salary House\n",
       "0       Nat   21      F   20000    No\n",
       "1  Michelle   61      M   80000   Yes\n",
       "2       Ben   34      M   35000    No\n",
       "3       Joe   56      M   60000   Yes\n",
       "4     Nancy   42      F   48000   Yes"
      ]
     },
     "execution_count": 5,
     "metadata": {},
     "output_type": "execute_result"
    }
   ],
   "source": [
    "dataset"
   ]
  },
  {
   "cell_type": "code",
   "execution_count": 6,
   "metadata": {},
   "outputs": [
    {
     "data": {
      "text/plain": [
       "Name      object\n",
       "Age        int64\n",
       "Gender    object\n",
       "Salary     int64\n",
       "House     object\n",
       "dtype: object"
      ]
     },
     "execution_count": 6,
     "metadata": {},
     "output_type": "execute_result"
    }
   ],
   "source": [
    "# dtypes can be used to check the type of the data uploaded in dataframe\n",
    "dataset.dtypes"
   ]
  },
  {
   "cell_type": "markdown",
   "metadata": {},
   "source": [
    "In any dataset, we have two main things:\n",
    "\n",
    "1.\tFeatures: columns with which dependent variable are predicted. \n",
    "2.\tDependent variable vector- This is the value to be predicted\n",
    "\n",
    "Features: They are columns with which we predict the Dependent variable vector. Features are also called independent variable, contains information with which we can predict dependent variable. Features is always in 1st column and dependent variable vector in last column.\n",
    "Age, Salary, Gender are the first columns which will help us predict if an individual owns a house or not. Age, gender and salary are our features and the “House” will be our dependent variable vector.\n",
    "\n",
    "Dependent variable vector: This is the value to be predicted. In our case, Column ‘House’ is our DVV as we predict if a person owns a house or not depending on the Age and Salary.\n",
    "\n",
    "Slicing using the [] operator selects a set of rows and columns from a DataFrame\n",
    "Slicing a single row or column: data[start index : stop index]\n",
    "A DataFrame always has an index which is 0-based and ‘:’ in python is range.\n",
    "Slicing Subsets of Rows and Columns together: iloc[row slicing, column slicing]\n",
    "\n",
    "Iloc is uses to locate the indexes of rows/columns we want to extract.\n",
    "\n",
    "\n",
    "Matrix of features containing all the features is passed in X. We will pass all the rows and the columns which indicate the features.\n",
    "Dependent variable vector will be passed in y.We will pass all the rows and the last column which will be dependent variable."
   ]
  },
  {
   "cell_type": "code",
   "execution_count": 10,
   "metadata": {},
   "outputs": [],
   "source": [
    "X = dataset.iloc[:, :-1].values\n",
    "y = dataset.iloc[:, -1:].values"
   ]
  },
  {
   "cell_type": "markdown",
   "metadata": {},
   "source": [
    "X is the Matix of features which consists the data which can be used to predict y."
   ]
  },
  {
   "cell_type": "markdown",
   "metadata": {},
   "source": [
    "X = dataset.iloc[:, :-1].values \n",
    "\n",
    "The rows slicing ':' means: we are passing all rows(of the columns selected) as we do not have any start index and stop index mentioned.\n",
    "The column slicing ':-1' means: the start index is not mentioned hence the all columns starting from 0 are selected till the column -1. -1 is the last column in python. \n",
    "\n",
    "[:, :-1] implies, all the rows and all the columns except the last column is passed to the Matrix of features 'X'"
   ]
  },
  {
   "cell_type": "markdown",
   "metadata": {},
   "source": [
    "y = dataset.iloc[:, -1:].values\n",
    "\n",
    "The rows slicing ':' means: we are passing all rows as we do not have any start index and stop index mentioned.\n",
    "The column slicing '-1:' means: the start index is mentioned as -1, which is the last column in the dataset. Henceonly the last column the dependent vector is passed in our dependent variable vector.\n",
    "\n",
    "[:, -1:] implies, all the rows and the last column is passed to the Matrix of features 'y'\n",
    " "
   ]
  },
  {
   "cell_type": "code",
   "execution_count": 11,
   "metadata": {
    "scrolled": false
   },
   "outputs": [
    {
     "name": "stdout",
     "output_type": "stream",
     "text": [
      "[['Nat' 21 'F' 20000]\n",
      " ['Michelle' 61 'M' 80000]\n",
      " ['Ben' 34 'M' 35000]\n",
      " ['Joe' 56 'M' 60000]\n",
      " ['Nancy' 42 'F' 48000]]\n"
     ]
    }
   ],
   "source": [
    "print(X)"
   ]
  },
  {
   "cell_type": "markdown",
   "metadata": {},
   "source": [
    "The features from the dataset are passed to X. it can be viewed using Print() function."
   ]
  },
  {
   "cell_type": "code",
   "execution_count": 12,
   "metadata": {
    "scrolled": true
   },
   "outputs": [
    {
     "name": "stdout",
     "output_type": "stream",
     "text": [
      "[['No']\n",
      " ['Yes']\n",
      " ['No']\n",
      " ['Yes']\n",
      " ['Yes']]\n"
     ]
    }
   ],
   "source": [
    "print(y)"
   ]
  },
  {
   "cell_type": "markdown",
   "metadata": {},
   "source": [
    "The dependent vector variables from the dataset are passed to X. it can be viewed using Print() function."
   ]
  },
  {
   "cell_type": "code",
   "execution_count": 19,
   "metadata": {},
   "outputs": [],
   "source": [
    "X = dataset.iloc[:, 1:2]\n",
    "y = dataset.iloc[:, 3:].values"
   ]
  },
  {
   "cell_type": "markdown",
   "metadata": {},
   "source": [
    "This is another example to understand the slicing of the data.\n",
    "X = dataset.iloc[:, 1:2] : Here we see that all rows of only index no 1 i.e Age is being passed. "
   ]
  },
  {
   "cell_type": "code",
   "execution_count": 18,
   "metadata": {},
   "outputs": [
    {
     "name": "stdout",
     "output_type": "stream",
     "text": [
      "   Age\n",
      "0   21\n",
      "1   61\n",
      "2   34\n",
      "3   56\n",
      "4   42\n"
     ]
    }
   ],
   "source": [
    "print(X)"
   ]
  },
  {
   "cell_type": "code",
   "execution_count": 20,
   "metadata": {},
   "outputs": [
    {
     "name": "stdout",
     "output_type": "stream",
     "text": [
      "[[20000 'No']\n",
      " [80000 'Yes']\n",
      " [35000 'No']\n",
      " [60000 'Yes']\n",
      " [48000 'Yes']]\n"
     ]
    }
   ],
   "source": [
    "print(y)"
   ]
  },
  {
   "cell_type": "markdown",
   "metadata": {},
   "source": [
    "y = dataset.iloc[:, 3:] : All rows and all columns from index 3 is passed.\n",
    "\n",
    "Note: .values addition passes only the values into the data set. You can see the difference between X and y datasets. y has only values where as X has the header and index as well.\n",
    "\n",
    "We have successfully imported all the libraries and sliced the data and divided them to features 'X' and dependent vector variable 'y' respectively."
   ]
  }
 ],
 "metadata": {
  "kernelspec": {
   "display_name": "Python 3",
   "language": "python",
   "name": "python3"
  },
  "language_info": {
   "codemirror_mode": {
    "name": "ipython",
    "version": 3
   },
   "file_extension": ".py",
   "mimetype": "text/x-python",
   "name": "python",
   "nbconvert_exporter": "python",
   "pygments_lexer": "ipython3",
   "version": "3.7.6"
  }
 },
 "nbformat": 4,
 "nbformat_minor": 4
}
