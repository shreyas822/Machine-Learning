{
 "cells": [
  {
   "cell_type": "markdown",
   "metadata": {},
   "source": [
    "In many practical Datasets, the data set will contain categorical variables.These variables are typically stored as text values which represent various traits. Ex: geographic designations or color. These features are typically stored as text values which represent various traits of the observations. \n"
   ]
  },
  {
   "cell_type": "markdown",
   "metadata": {},
   "source": [
    "There will be a challenge in figuring out how to turn these text attributes into numerical values for further processing.\n",
    "\n",
    "Reasons for challenge:\n",
    "1.Many machine learning models are algebraic. This means that their input must be numerical. \n",
    "2.Categorical features may have a very large number of levels, known as high cardinality where most of the levels appear in a relatively small number of instances.\n",
    "3.For the machine, categorical data doesn’t contain the same context or information that humans can easily associate and understand.For the model blue, red and green are just three different levels (possible values) of the same feature City. If you don’t specify the additional contextual information, it is impossible for the model to differentiate between highly different levels.\n",
    "\n"
   ]
  },
  {
   "cell_type": "markdown",
   "metadata": {},
   "source": [
    "Machine learning algorithms require that input and output variables as numbers. This means that categorical data must be encoded to numbers before we can use it to fit and evaluate a model.\n",
    "\n",
    "Along with the input, the output also must be encoded to numbers. If the output, our dependent variable is in text format, we need to encode it to numbers."
   ]
  },
  {
   "cell_type": "markdown",
   "metadata": {},
   "source": [
    "There are mostly 3 types of Encoding.\n",
    "1. Integer Encoding\n",
    "2. One Hot Encoding(emample provided below)\n",
    "3. Learned Embedding"
   ]
  },
  {
   "cell_type": "markdown",
   "metadata": {},
   "source": [
    "Let us have a look at it in detail.\n",
    "First we will import all the Libraries and Dataset.\n",
    "We then replace missing values if any.\n",
    "Then we replace the categorical values."
   ]
  },
  {
   "cell_type": "markdown",
   "metadata": {},
   "source": [
    "In the example we are going to use, countries will be the categories we will be working with."
   ]
  },
  {
   "cell_type": "code",
   "execution_count": 1,
   "metadata": {},
   "outputs": [],
   "source": [
    "# Import followed by Name of library and add a shortcut name 'np'\n",
    "import numpy as np"
   ]
  },
  {
   "cell_type": "code",
   "execution_count": 2,
   "metadata": {},
   "outputs": [],
   "source": [
    "# pyplot is a module in matplotlib\n",
    "import matplotlib.pyplot as plt"
   ]
  },
  {
   "cell_type": "code",
   "execution_count": 3,
   "metadata": {},
   "outputs": [],
   "source": [
    "import pandas as pd"
   ]
  },
  {
   "cell_type": "code",
   "execution_count": 4,
   "metadata": {},
   "outputs": [],
   "source": [
    "# pass the data from file into a variable 'dataset'\n",
    "dataset = pd.read_csv('Data_encode_category.csv')"
   ]
  },
  {
   "cell_type": "code",
   "execution_count": 5,
   "metadata": {},
   "outputs": [
    {
     "data": {
      "text/html": [
       "<div>\n",
       "<style scoped>\n",
       "    .dataframe tbody tr th:only-of-type {\n",
       "        vertical-align: middle;\n",
       "    }\n",
       "\n",
       "    .dataframe tbody tr th {\n",
       "        vertical-align: top;\n",
       "    }\n",
       "\n",
       "    .dataframe thead th {\n",
       "        text-align: right;\n",
       "    }\n",
       "</style>\n",
       "<table border=\"1\" class=\"dataframe\">\n",
       "  <thead>\n",
       "    <tr style=\"text-align: right;\">\n",
       "      <th></th>\n",
       "      <th>Country</th>\n",
       "      <th>Age</th>\n",
       "      <th>Salary</th>\n",
       "      <th>Purchased</th>\n",
       "    </tr>\n",
       "  </thead>\n",
       "  <tbody>\n",
       "    <tr>\n",
       "      <th>0</th>\n",
       "      <td>Mexico</td>\n",
       "      <td>44.0</td>\n",
       "      <td>72000.0</td>\n",
       "      <td>No</td>\n",
       "    </tr>\n",
       "    <tr>\n",
       "      <th>1</th>\n",
       "      <td>India</td>\n",
       "      <td>27.0</td>\n",
       "      <td>48000.0</td>\n",
       "      <td>Yes</td>\n",
       "    </tr>\n",
       "    <tr>\n",
       "      <th>2</th>\n",
       "      <td>Srilanka</td>\n",
       "      <td>30.0</td>\n",
       "      <td>54000.0</td>\n",
       "      <td>No</td>\n",
       "    </tr>\n",
       "    <tr>\n",
       "      <th>3</th>\n",
       "      <td>India</td>\n",
       "      <td>38.0</td>\n",
       "      <td>61000.0</td>\n",
       "      <td>No</td>\n",
       "    </tr>\n",
       "    <tr>\n",
       "      <th>4</th>\n",
       "      <td>Srilanka</td>\n",
       "      <td>40.0</td>\n",
       "      <td>NaN</td>\n",
       "      <td>Yes</td>\n",
       "    </tr>\n",
       "    <tr>\n",
       "      <th>5</th>\n",
       "      <td>Mexico</td>\n",
       "      <td>35.0</td>\n",
       "      <td>58000.0</td>\n",
       "      <td>Yes</td>\n",
       "    </tr>\n",
       "    <tr>\n",
       "      <th>6</th>\n",
       "      <td>India</td>\n",
       "      <td>NaN</td>\n",
       "      <td>52000.0</td>\n",
       "      <td>No</td>\n",
       "    </tr>\n",
       "    <tr>\n",
       "      <th>7</th>\n",
       "      <td>Mexico</td>\n",
       "      <td>48.0</td>\n",
       "      <td>79000.0</td>\n",
       "      <td>Yes</td>\n",
       "    </tr>\n",
       "    <tr>\n",
       "      <th>8</th>\n",
       "      <td>Srilanka</td>\n",
       "      <td>50.0</td>\n",
       "      <td>83000.0</td>\n",
       "      <td>No</td>\n",
       "    </tr>\n",
       "    <tr>\n",
       "      <th>9</th>\n",
       "      <td>Mexico</td>\n",
       "      <td>37.0</td>\n",
       "      <td>67000.0</td>\n",
       "      <td>Yes</td>\n",
       "    </tr>\n",
       "  </tbody>\n",
       "</table>\n",
       "</div>"
      ],
      "text/plain": [
       "    Country   Age   Salary Purchased\n",
       "0    Mexico  44.0  72000.0        No\n",
       "1     India  27.0  48000.0       Yes\n",
       "2  Srilanka  30.0  54000.0        No\n",
       "3     India  38.0  61000.0        No\n",
       "4  Srilanka  40.0      NaN       Yes\n",
       "5    Mexico  35.0  58000.0       Yes\n",
       "6     India   NaN  52000.0        No\n",
       "7    Mexico  48.0  79000.0       Yes\n",
       "8  Srilanka  50.0  83000.0        No\n",
       "9    Mexico  37.0  67000.0       Yes"
      ]
     },
     "execution_count": 5,
     "metadata": {},
     "output_type": "execute_result"
    }
   ],
   "source": [
    "dataset"
   ]
  },
  {
   "cell_type": "markdown",
   "metadata": {},
   "source": [
    "Missing data is represented as Nan in python. We can see two rows- 2 and 7 have missing salaries."
   ]
  },
  {
   "cell_type": "code",
   "execution_count": 6,
   "metadata": {},
   "outputs": [],
   "source": [
    "X = dataset.iloc[:, 0:3]\n",
    "y = dataset.iloc[:, -1:]"
   ]
  },
  {
   "cell_type": "code",
   "execution_count": 7,
   "metadata": {},
   "outputs": [
    {
     "name": "stdout",
     "output_type": "stream",
     "text": [
      "    Country   Age   Salary\n",
      "0    Mexico  44.0  72000.0\n",
      "1     India  27.0  48000.0\n",
      "2  Srilanka  30.0  54000.0\n",
      "3     India  38.0  61000.0\n",
      "4  Srilanka  40.0      NaN\n",
      "5    Mexico  35.0  58000.0\n",
      "6     India   NaN  52000.0\n",
      "7    Mexico  48.0  79000.0\n",
      "8  Srilanka  50.0  83000.0\n",
      "9    Mexico  37.0  67000.0\n"
     ]
    }
   ],
   "source": [
    "print(X)\n"
   ]
  },
  {
   "cell_type": "code",
   "execution_count": 8,
   "metadata": {},
   "outputs": [
    {
     "name": "stdout",
     "output_type": "stream",
     "text": [
      "  Purchased\n",
      "0        No\n",
      "1       Yes\n",
      "2        No\n",
      "3        No\n",
      "4       Yes\n",
      "5       Yes\n",
      "6        No\n",
      "7       Yes\n",
      "8        No\n",
      "9       Yes\n"
     ]
    }
   ],
   "source": [
    "print(y)"
   ]
  },
  {
   "cell_type": "code",
   "execution_count": 9,
   "metadata": {},
   "outputs": [],
   "source": [
    "from sklearn.impute import SimpleImputer"
   ]
  },
  {
   "cell_type": "markdown",
   "metadata": {},
   "source": [
    "SimpleImputer is an Imputation transformer for completing missing values."
   ]
  },
  {
   "cell_type": "code",
   "execution_count": 10,
   "metadata": {},
   "outputs": [],
   "source": [
    "# Create an object of the class SimpleImputer and replace the missing salaries with the average salary\n",
    "imputer = SimpleImputer(missing_values=np.nan, strategy='mean')"
   ]
  },
  {
   "cell_type": "markdown",
   "metadata": {},
   "source": [
    "Call the class  SimpleImputer \n",
    "missing_values: The placeholder for the missing values.\n",
    "Strategy: Imputation strategy. Ex:\n",
    "    mean(default): replace missing values using the mean of the column\n",
    "    most_frequent: replace missing values with most frequent"
   ]
  },
  {
   "cell_type": "code",
   "execution_count": 11,
   "metadata": {},
   "outputs": [
    {
     "data": {
      "text/plain": [
       "SimpleImputer(add_indicator=False, copy=True, fill_value=None,\n",
       "              missing_values=nan, strategy='mean', verbose=0)"
      ]
     },
     "execution_count": 11,
     "metadata": {},
     "output_type": "execute_result"
    }
   ],
   "source": [
    "imputer.fit(X.iloc[:,1:])"
   ]
  },
  {
   "cell_type": "markdown",
   "metadata": {},
   "source": [
    "Fit method will look for the missing values and compute the Mean. Pass the rows where missing data has to be searched and computed."
   ]
  },
  {
   "cell_type": "code",
   "execution_count": 12,
   "metadata": {},
   "outputs": [],
   "source": [
    "xy = imputer.transform(X.iloc[:,1:])"
   ]
  },
  {
   "cell_type": "code",
   "execution_count": 13,
   "metadata": {},
   "outputs": [],
   "source": [
    "X.iloc[:,1:] = xy"
   ]
  },
  {
   "cell_type": "markdown",
   "metadata": {},
   "source": [
    "Transform method will actually replace the missing values.\n",
    "The above statement, searches all the rows of our X dataset and column 3 i.e Salary and computes the Mean \n",
    "\n",
    "But this value has to be actually replaced in our dataset X. hence xy is passed to our missing row.\n",
    "Alternatively, we can also write it as:\n",
    "X[:, 3:] = imputer.transform(X[:, 3:])"
   ]
  },
  {
   "cell_type": "code",
   "execution_count": 14,
   "metadata": {},
   "outputs": [
    {
     "name": "stdout",
     "output_type": "stream",
     "text": [
      "    Country        Age        Salary\n",
      "0    Mexico  44.000000  72000.000000\n",
      "1     India  27.000000  48000.000000\n",
      "2  Srilanka  30.000000  54000.000000\n",
      "3     India  38.000000  61000.000000\n",
      "4  Srilanka  40.000000  63777.777778\n",
      "5    Mexico  35.000000  58000.000000\n",
      "6     India  38.777778  52000.000000\n",
      "7    Mexico  48.000000  79000.000000\n",
      "8  Srilanka  50.000000  83000.000000\n",
      "9    Mexico  37.000000  67000.000000\n"
     ]
    }
   ],
   "source": [
    "print(X)"
   ]
  },
  {
   "cell_type": "markdown",
   "metadata": {},
   "source": [
    "Now, import the necessary classed to encode the categorical data."
   ]
  },
  {
   "cell_type": "markdown",
   "metadata": {},
   "source": [
    "We need to turn the categoreis to numbers. One country column will transform into 3 numerical columns, each column pertaining to each category.We will replace country column with 3 columns, a unique id per column(country). Number \"1\" is assigned when the row is true to its particular column and \"0\" is assigned for false. \n",
    "Ex: For the row mexico, the column value will be \"1\" for the the column named Mexico and the other two columns will be \"0\".\n",
    "\n",
    "There will be no inter relationship between the three countries.\n",
    "It assignes Binary vectors for the three columns 0,0,1.\n",
    "We will only have 0 and 1. "
   ]
  },
  {
   "cell_type": "markdown",
   "metadata": {},
   "source": [
    "To achieve this, we will use 2 classes, column transformer and Onehot encoder"
   ]
  },
  {
   "cell_type": "code",
   "execution_count": 14,
   "metadata": {},
   "outputs": [],
   "source": [
    "from sklearn.compose import ColumnTransformer\n",
    "from sklearn.preprocessing import OneHotEncoder\n",
    "from sklearn.preprocessing import LabelEncoder"
   ]
  },
  {
   "cell_type": "markdown",
   "metadata": {},
   "source": [
    "We mix both the classes for encoding.\n",
    "We call the column transformer first, to transform the first column pass the below 3 arguments. remainder- keep cols that wont apply transformation\n",
    "1. kind of transformation- What transformation we want to do on which index\n",
    "2. Encoder class name- Which wncoder we are using.\n",
    "3. Index- Index of column which needs to be transformed.\n",
    "\n",
    "Then we pass the remainder, all the other reminder columns as pass through."
   ]
  },
  {
   "cell_type": "code",
   "execution_count": 15,
   "metadata": {},
   "outputs": [],
   "source": [
    "coltrans = ColumnTransformer(transformers=[('encoder', OneHotEncoder(), [0])],remainder='passthrough')"
   ]
  },
  {
   "cell_type": "code",
   "execution_count": 16,
   "metadata": {},
   "outputs": [],
   "source": [
    "X = np.array(coltrans.fit_transform(X))"
   ]
  },
  {
   "cell_type": "markdown",
   "metadata": {},
   "source": [
    "We fit, and transform the column which is passed to variable, coltrans."
   ]
  },
  {
   "cell_type": "code",
   "execution_count": 49,
   "metadata": {},
   "outputs": [
    {
     "name": "stdout",
     "output_type": "stream",
     "text": [
      "[[0.00000000e+00 1.00000000e+00 0.00000000e+00 4.40000000e+01\n",
      "  7.20000000e+04]\n",
      " [1.00000000e+00 0.00000000e+00 0.00000000e+00 2.70000000e+01\n",
      "  4.80000000e+04]\n",
      " [0.00000000e+00 0.00000000e+00 1.00000000e+00 3.00000000e+01\n",
      "  5.40000000e+04]\n",
      " [1.00000000e+00 0.00000000e+00 0.00000000e+00 3.80000000e+01\n",
      "  6.10000000e+04]\n",
      " [0.00000000e+00 0.00000000e+00 1.00000000e+00 4.00000000e+01\n",
      "  6.37777778e+04]\n",
      " [0.00000000e+00 1.00000000e+00 0.00000000e+00 3.50000000e+01\n",
      "  5.80000000e+04]\n",
      " [1.00000000e+00 0.00000000e+00 0.00000000e+00 3.87777778e+01\n",
      "  5.20000000e+04]\n",
      " [0.00000000e+00 1.00000000e+00 0.00000000e+00 4.80000000e+01\n",
      "  7.90000000e+04]\n",
      " [0.00000000e+00 0.00000000e+00 1.00000000e+00 5.00000000e+01\n",
      "  8.30000000e+04]\n",
      " [0.00000000e+00 1.00000000e+00 0.00000000e+00 3.70000000e+01\n",
      "  6.70000000e+04]]\n"
     ]
    }
   ],
   "source": [
    "print(X)"
   ]
  },
  {
   "cell_type": "markdown",
   "metadata": {},
   "source": [
    "Hre, we see the first column, country is replaced by three binary columns with values 0,1,0 with countries India, Mexico and Srilanka.\n",
    "The first row- 0 1 0 states, the is categorised to Mexico. "
   ]
  },
  {
   "cell_type": "code",
   "execution_count": 18,
   "metadata": {},
   "outputs": [],
   "source": [
    "laben = LabelEncoder()"
   ]
  },
  {
   "cell_type": "markdown",
   "metadata": {},
   "source": [
    "Not only the input, but also the output should also be cateorised from Yes, No to 1,0.\n",
    "To do this we import a class called label encoder.\n",
    "Instantiate, Fit and transform the label encoder for our dependent variable vector."
   ]
  },
  {
   "cell_type": "code",
   "execution_count": 19,
   "metadata": {},
   "outputs": [
    {
     "name": "stderr",
     "output_type": "stream",
     "text": [
      "C:\\Users\\aramakrishna\\Anaconda3\\lib\\site-packages\\sklearn\\preprocessing\\_label.py:251: DataConversionWarning: A column-vector y was passed when a 1d array was expected. Please change the shape of y to (n_samples, ), for example using ravel().\n",
      "  y = column_or_1d(y, warn=True)\n"
     ]
    }
   ],
   "source": [
    "y = np.array(laben.fit_transform(y))"
   ]
  },
  {
   "cell_type": "code",
   "execution_count": 20,
   "metadata": {},
   "outputs": [
    {
     "name": "stdout",
     "output_type": "stream",
     "text": [
      "[0 1 0 0 1 1 0 1 0 1]\n"
     ]
    }
   ],
   "source": [
    "print(y)"
   ]
  },
  {
   "cell_type": "markdown",
   "metadata": {},
   "source": [
    "Print the categorised output.\n",
    "We have now seen how to encode the categorical data. We will see more about it in future."
   ]
  },
  {
   "cell_type": "code",
   "execution_count": null,
   "metadata": {},
   "outputs": [],
   "source": []
  }
 ],
 "metadata": {
  "kernelspec": {
   "display_name": "Python 3",
   "language": "python",
   "name": "python3"
  },
  "language_info": {
   "codemirror_mode": {
    "name": "ipython",
    "version": 3
   },
   "file_extension": ".py",
   "mimetype": "text/x-python",
   "name": "python",
   "nbconvert_exporter": "python",
   "pygments_lexer": "ipython3",
   "version": "3.7.6"
  }
 },
 "nbformat": 4,
 "nbformat_minor": 4
}
