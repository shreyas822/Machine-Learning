{
  "nbformat": 4,
  "nbformat_minor": 0,
  "metadata": {
    "colab": {
      "name": "GOALSTREET P-12.ipynb",
      "provenance": [],
      "collapsed_sections": [],
      "include_colab_link": true
    },
    "kernelspec": {
      "name": "python3",
      "display_name": "Python 3"
    }
  },
  "cells": [
    {
      "cell_type": "markdown",
      "metadata": {
        "id": "view-in-github",
        "colab_type": "text"
      },
      "source": [
        "<a href=\"https://colab.research.google.com/github/shreyas822/Machine-Learning/blob/master/H1B%20Visa%20Prediction.ipynb\" target=\"_parent\"><img src=\"https://colab.research.google.com/assets/colab-badge.svg\" alt=\"Open In Colab\"/></a>"
      ]
    },
    {
      "cell_type": "markdown",
      "metadata": {
        "id": "1reyUloLodWs",
        "colab_type": "text"
      },
      "source": [
        "# Project 12 - H1B Visa Petitions Decision Prediction"
      ]
    },
    {
      "cell_type": "markdown",
      "metadata": {
        "id": "Wuq0_HOBw5vW",
        "colab_type": "text"
      },
      "source": [
        "\n",
        "## Team 29\n",
        "\n",
        "*   Shreyas Venishetty\n",
        "\n",
        "      *   MVSR Engineering College\n",
        "      *   shreyas66vs@gmail.com\n",
        "\n"
      ]
    },
    {
      "cell_type": "markdown",
      "metadata": {
        "id": "y06sSwvqom2N",
        "colab_type": "text"
      },
      "source": [
        "##Importing the libraries"
      ]
    },
    {
      "cell_type": "code",
      "metadata": {
        "id": "6PCMV_J70WPd",
        "colab_type": "code",
        "colab": {
          "base_uri": "https://localhost:8080/",
          "height": 71
        },
        "outputId": "ff269821-a8a6-4ee2-d30b-254b04066e19"
      },
      "source": [
        "import numpy as np \n",
        "import pandas as pd \n",
        "import matplotlib.pyplot as plt\n",
        "import seaborn as sns\n",
        "from matplotlib.pyplot import plot"
      ],
      "execution_count": null,
      "outputs": [
        {
          "output_type": "stream",
          "text": [
            "/usr/local/lib/python3.6/dist-packages/statsmodels/tools/_testing.py:19: FutureWarning: pandas.util.testing is deprecated. Use the functions in the public API at pandas.testing instead.\n",
            "  import pandas.util.testing as tm\n"
          ],
          "name": "stderr"
        }
      ]
    },
    {
      "cell_type": "code",
      "metadata": {
        "id": "a0ken-lVSV4-",
        "colab_type": "code",
        "colab": {
          "base_uri": "https://localhost:8080/",
          "height": 123
        },
        "outputId": "0317ae96-cb41-4ad2-f22e-c934439c9f78"
      },
      "source": [
        "from google.colab import drive\n",
        "drive.mount(\"/content/gdrive\",force_remount=True)"
      ],
      "execution_count": null,
      "outputs": [
        {
          "output_type": "stream",
          "text": [
            "Go to this URL in a browser: https://accounts.google.com/o/oauth2/auth?client_id=947318989803-6bn6qk8qdgf4n4g3pfee6491hc0brc4i.apps.googleusercontent.com&redirect_uri=urn%3aietf%3awg%3aoauth%3a2.0%3aoob&scope=email%20https%3a%2f%2fwww.googleapis.com%2fauth%2fdocs.test%20https%3a%2f%2fwww.googleapis.com%2fauth%2fdrive%20https%3a%2f%2fwww.googleapis.com%2fauth%2fdrive.photos.readonly%20https%3a%2f%2fwww.googleapis.com%2fauth%2fpeopleapi.readonly&response_type=code\n",
            "\n",
            "Enter your authorization code:\n",
            "··········\n",
            "Mounted at /content/gdrive\n"
          ],
          "name": "stdout"
        }
      ]
    },
    {
      "cell_type": "code",
      "metadata": {
        "id": "NzexK7UbURrp",
        "colab_type": "code",
        "colab": {}
      },
      "source": [
        "import os\n",
        "os.environ['KAGGLE_CONFIG_DIR'] = \"/content/gdrive/My Drive/Kaggle\""
      ],
      "execution_count": null,
      "outputs": []
    },
    {
      "cell_type": "code",
      "metadata": {
        "id": "N9fLoYTX4iYA",
        "colab_type": "code",
        "colab": {
          "base_uri": "https://localhost:8080/",
          "height": 34
        },
        "outputId": "7a23851e-d1c9-4fdb-97e6-a51bb160d034"
      },
      "source": [
        "#changing the working directory\n",
        "%cd /content/gdrive/My Drive/Kaggle"
      ],
      "execution_count": null,
      "outputs": [
        {
          "output_type": "stream",
          "text": [
            "/content/gdrive/My Drive/Kaggle\n"
          ],
          "name": "stdout"
        }
      ]
    },
    {
      "cell_type": "code",
      "metadata": {
        "id": "OBMseseEUw5e",
        "colab_type": "code",
        "colab": {
          "base_uri": "https://localhost:8080/",
          "height": 69
        },
        "outputId": "d52465d2-ca82-4998-c615-fbc5c988fca3"
      },
      "source": [
        "!kaggle datasets download -d nsharan/h-1b-visa"
      ],
      "execution_count": null,
      "outputs": [
        {
          "output_type": "stream",
          "text": [
            "Downloading h-1b-visa.zip to /content/gdrive/My Drive/Kaggle\n",
            " 98% 93.0M/94.8M [00:01<00:00, 73.7MB/s]\n",
            "100% 94.8M/94.8M [00:01<00:00, 70.1MB/s]\n"
          ],
          "name": "stdout"
        }
      ]
    },
    {
      "cell_type": "code",
      "metadata": {
        "id": "0HLfk7NbVDLC",
        "colab_type": "code",
        "colab": {
          "base_uri": "https://localhost:8080/",
          "height": 69
        },
        "outputId": "494ac463-ea88-452a-f5c9-878ee40bba81"
      },
      "source": [
        "!unzip \\*.zip  && rm *.zip"
      ],
      "execution_count": null,
      "outputs": [
        {
          "output_type": "stream",
          "text": [
            "Archive:  h-1b-visa.zip\n",
            "replace h1b_kaggle.csv? [y]es, [n]o, [A]ll, [N]one, [r]ename: y\n",
            "  inflating: h1b_kaggle.csv          \n"
          ],
          "name": "stdout"
        }
      ]
    },
    {
      "cell_type": "markdown",
      "metadata": {
        "id": "qNJ4IbQ5oz77",
        "colab_type": "text"
      },
      "source": [
        "### Import the data and load it into a pandas dataframe for further cleaning and Analysis"
      ]
    },
    {
      "cell_type": "code",
      "metadata": {
        "id": "NOyEN2ruVMGB",
        "colab_type": "code",
        "colab": {
          "base_uri": "https://localhost:8080/",
          "height": 414
        },
        "outputId": "7646598a-15b3-4296-f970-8552b021a238"
      },
      "source": [
        "df=pd.read_csv(\"h1b_kaggle.csv\")\n",
        "df.head()"
      ],
      "execution_count": null,
      "outputs": [
        {
          "output_type": "execute_result",
          "data": {
            "text/html": [
              "<div>\n",
              "<style scoped>\n",
              "    .dataframe tbody tr th:only-of-type {\n",
              "        vertical-align: middle;\n",
              "    }\n",
              "\n",
              "    .dataframe tbody tr th {\n",
              "        vertical-align: top;\n",
              "    }\n",
              "\n",
              "    .dataframe thead th {\n",
              "        text-align: right;\n",
              "    }\n",
              "</style>\n",
              "<table border=\"1\" class=\"dataframe\">\n",
              "  <thead>\n",
              "    <tr style=\"text-align: right;\">\n",
              "      <th></th>\n",
              "      <th>Unnamed: 0</th>\n",
              "      <th>CASE_STATUS</th>\n",
              "      <th>EMPLOYER_NAME</th>\n",
              "      <th>SOC_NAME</th>\n",
              "      <th>JOB_TITLE</th>\n",
              "      <th>FULL_TIME_POSITION</th>\n",
              "      <th>PREVAILING_WAGE</th>\n",
              "      <th>YEAR</th>\n",
              "      <th>WORKSITE</th>\n",
              "      <th>lon</th>\n",
              "      <th>lat</th>\n",
              "    </tr>\n",
              "  </thead>\n",
              "  <tbody>\n",
              "    <tr>\n",
              "      <th>0</th>\n",
              "      <td>1</td>\n",
              "      <td>CERTIFIED-WITHDRAWN</td>\n",
              "      <td>UNIVERSITY OF MICHIGAN</td>\n",
              "      <td>BIOCHEMISTS AND BIOPHYSICISTS</td>\n",
              "      <td>POSTDOCTORAL RESEARCH FELLOW</td>\n",
              "      <td>N</td>\n",
              "      <td>36067.0</td>\n",
              "      <td>2016.0</td>\n",
              "      <td>ANN ARBOR, MICHIGAN</td>\n",
              "      <td>-83.743038</td>\n",
              "      <td>42.280826</td>\n",
              "    </tr>\n",
              "    <tr>\n",
              "      <th>1</th>\n",
              "      <td>2</td>\n",
              "      <td>CERTIFIED-WITHDRAWN</td>\n",
              "      <td>GOODMAN NETWORKS, INC.</td>\n",
              "      <td>CHIEF EXECUTIVES</td>\n",
              "      <td>CHIEF OPERATING OFFICER</td>\n",
              "      <td>Y</td>\n",
              "      <td>242674.0</td>\n",
              "      <td>2016.0</td>\n",
              "      <td>PLANO, TEXAS</td>\n",
              "      <td>-96.698886</td>\n",
              "      <td>33.019843</td>\n",
              "    </tr>\n",
              "    <tr>\n",
              "      <th>2</th>\n",
              "      <td>3</td>\n",
              "      <td>CERTIFIED-WITHDRAWN</td>\n",
              "      <td>PORTS AMERICA GROUP, INC.</td>\n",
              "      <td>CHIEF EXECUTIVES</td>\n",
              "      <td>CHIEF PROCESS OFFICER</td>\n",
              "      <td>Y</td>\n",
              "      <td>193066.0</td>\n",
              "      <td>2016.0</td>\n",
              "      <td>JERSEY CITY, NEW JERSEY</td>\n",
              "      <td>-74.077642</td>\n",
              "      <td>40.728158</td>\n",
              "    </tr>\n",
              "    <tr>\n",
              "      <th>3</th>\n",
              "      <td>4</td>\n",
              "      <td>CERTIFIED-WITHDRAWN</td>\n",
              "      <td>GATES CORPORATION, A WHOLLY-OWNED SUBSIDIARY O...</td>\n",
              "      <td>CHIEF EXECUTIVES</td>\n",
              "      <td>REGIONAL PRESIDEN, AMERICAS</td>\n",
              "      <td>Y</td>\n",
              "      <td>220314.0</td>\n",
              "      <td>2016.0</td>\n",
              "      <td>DENVER, COLORADO</td>\n",
              "      <td>-104.990251</td>\n",
              "      <td>39.739236</td>\n",
              "    </tr>\n",
              "    <tr>\n",
              "      <th>4</th>\n",
              "      <td>5</td>\n",
              "      <td>WITHDRAWN</td>\n",
              "      <td>PEABODY INVESTMENTS CORP.</td>\n",
              "      <td>CHIEF EXECUTIVES</td>\n",
              "      <td>PRESIDENT MONGOLIA AND INDIA</td>\n",
              "      <td>Y</td>\n",
              "      <td>157518.4</td>\n",
              "      <td>2016.0</td>\n",
              "      <td>ST. LOUIS, MISSOURI</td>\n",
              "      <td>-90.199404</td>\n",
              "      <td>38.627003</td>\n",
              "    </tr>\n",
              "  </tbody>\n",
              "</table>\n",
              "</div>"
            ],
            "text/plain": [
              "   Unnamed: 0          CASE_STATUS  ...         lon        lat\n",
              "0           1  CERTIFIED-WITHDRAWN  ...  -83.743038  42.280826\n",
              "1           2  CERTIFIED-WITHDRAWN  ...  -96.698886  33.019843\n",
              "2           3  CERTIFIED-WITHDRAWN  ...  -74.077642  40.728158\n",
              "3           4  CERTIFIED-WITHDRAWN  ... -104.990251  39.739236\n",
              "4           5            WITHDRAWN  ...  -90.199404  38.627003\n",
              "\n",
              "[5 rows x 11 columns]"
            ]
          },
          "metadata": {
            "tags": []
          },
          "execution_count": 7
        }
      ]
    },
    {
      "cell_type": "code",
      "metadata": {
        "id": "ZW-imJmnVJrI",
        "colab_type": "code",
        "colab": {}
      },
      "source": [
        "## Imports for different type of classfiers\n",
        "from sklearn import tree # <- Decision- Trees\n",
        "from sklearn import svm # <- Support Vector Machines\n",
        "import sklearn.linear_model as linear_model # <- Logisitic Regression - Sigmoid Function on the Linear Regression\n",
        "from sklearn.ensemble import RandomForestClassifier # <- Random Forest Classifier\n",
        "from sklearn.neural_network import MLPClassifier # <- Neural Networks\n",
        "from sklearn.naive_bayes import GaussianNB # <- Gaussian Naive-Bayes Classifier\n",
        "\n",
        "## Imports for recursive feature elimination\n",
        "from sklearn.feature_selection import RFE\n",
        "from sklearn.linear_model import LogisticRegression\n",
        "\n",
        "## Imports for splitting the data into training and test data\n",
        "from sklearn.model_selection import train_test_split\n",
        "\n",
        "## Imports for evaluating the different classifier models selected\n",
        "import sklearn.metrics as metrics\n",
        "from sklearn import preprocessing\n",
        "\n",
        "## Data Visualisation\n",
        "import matplotlib.pyplot as plt\n",
        "%matplotlib inline"
      ],
      "execution_count": null,
      "outputs": []
    },
    {
      "cell_type": "code",
      "metadata": {
        "id": "i1veIIk1pFLK",
        "colab_type": "code",
        "colab": {
          "base_uri": "https://localhost:8080/",
          "height": 71
        },
        "outputId": "c5ae39e2-f1c8-485a-b8be-7808c5760504"
      },
      "source": [
        "pd.set_option('display.max_colwidth', -1)\n",
        "pd.options.mode.chained_assignment = None"
      ],
      "execution_count": null,
      "outputs": [
        {
          "output_type": "stream",
          "text": [
            "/usr/local/lib/python3.6/dist-packages/ipykernel_launcher.py:1: FutureWarning: Passing a negative integer is deprecated in version 1.0 and will not be supported in future version. Instead, use None to not limit the column width.\n",
            "  \"\"\"Entry point for launching an IPython kernel.\n"
          ],
          "name": "stderr"
        }
      ]
    },
    {
      "cell_type": "markdown",
      "metadata": {
        "id": "RRFDDp4tplP9",
        "colab_type": "text"
      },
      "source": [
        "##Case Status v/s Number of Petitions of the visa petition"
      ]
    },
    {
      "cell_type": "code",
      "metadata": {
        "id": "4bUTuaNapWdf",
        "colab_type": "code",
        "colab": {
          "base_uri": "https://localhost:8080/",
          "height": 433
        },
        "outputId": "7f72d90c-5859-4098-a22a-4bac38cbf522"
      },
      "source": [
        "plot_status_numberinit = df['CASE_STATUS'].value_counts().plot(title = 'CASE STATUS vs NUMBER OF PETITIONS', \\\n",
        "                                                                kind = 'barh', color = 'green')\n",
        "plot_status_numberinit.set_xlabel(\"CASE STATUS\")\n",
        "plot_status_numberinit.set_ylabel(\"NUMBER OF PETITIONS\")\n",
        "plt.show()\n",
        "print(df['CASE_STATUS'].value_counts())"
      ],
      "execution_count": null,
      "outputs": [
        {
          "output_type": "display_data",
          "data": {
            "image/png": "[encoded data removed]",
            "text/plain": [
              "<Figure size 432x288 with 1 Axes>"
            ]
          },
          "metadata": {
            "tags": [],
            "needs_background": "light"
          }
        },
        {
          "output_type": "stream",
          "text": [
            "CERTIFIED                                             2615623\n",
            "CERTIFIED-WITHDRAWN                                   202659 \n",
            "DENIED                                                94346  \n",
            "WITHDRAWN                                             89799  \n",
            "PENDING QUALITY AND COMPLIANCE REVIEW - UNASSIGNED    15     \n",
            "REJECTED                                              2      \n",
            "INVALIDATED                                           1      \n",
            "Name: CASE_STATUS, dtype: int64\n"
          ],
          "name": "stdout"
        }
      ]
    },
    {
      "cell_type": "markdown",
      "metadata": {
        "id": "lZOj88-co86W",
        "colab_type": "text"
      },
      "source": [
        "### Row Counts v/s Case Status of the visa petition"
      ]
    },
    {
      "cell_type": "code",
      "metadata": {
        "id": "XX4CMDSW1nad",
        "colab_type": "code",
        "colab": {
          "base_uri": "https://localhost:8080/",
          "height": 605
        },
        "outputId": "3a0b166d-9abb-4d10-beaf-12b8bd4974a2"
      },
      "source": [
        "plot_status_number = df['CASE_STATUS'].value_counts().plot(title = 'CASE STATUS vs NUMBER OF PETITIONS', \\\n",
        "                                                                kind = 'bar', color = 'green')\n",
        "plot_status_number.set_xlabel(\"CASE STATUS\")\n",
        "plot_status_number.set_ylabel(\"NUMBER OF PETITIONS\")\n",
        "for p in plot_status_number.patches:\n",
        "    plot_status_number.annotate(str(p.get_height()), (p.get_x() * 1.0050, p.get_height() * 1.005))\n",
        "plot_status_number"
      ],
      "execution_count": null,
      "outputs": [
        {
          "output_type": "execute_result",
          "data": {
            "text/plain": [
              "<matplotlib.axes._subplots.AxesSubplot at 0x7f5081e755f8>"
            ]
          },
          "metadata": {
            "tags": []
          },
          "execution_count": 11
        },
        {
          "output_type": "display_data",
          "data": {
            "image/png": "[encoded data removed]",
            "text/plain": [
              "<Figure size 432x288 with 1 Axes>"
            ]
          },
          "metadata": {
            "tags": [],
            "needs_background": "light"
          }
        }
      ]
    },
    {
      "cell_type": "markdown",
      "metadata": {
        "id": "6L8G7I-BpBoJ",
        "colab_type": "text"
      },
      "source": [
        "### The top 15 employers filing the H1-B visa petitions "
      ]
    },
    {
      "cell_type": "code",
      "metadata": {
        "id": "Js3NpjuDGHlA",
        "colab_type": "code",
        "colab": {
          "base_uri": "https://localhost:8080/",
          "height": 627
        },
        "outputId": "795639d2-f596-4a37-a4bf-56fc3bfccbf3"
      },
      "source": [
        "plot_status_topemp= df['EMPLOYER_NAME'].value_counts().head(15).plot.barh(title = \"Top 15 employers filing the petitions\", \\\n",
        "                                                                 color = 'green', figsize = (7, 5))\n",
        "plot_status_topemp.set_ylabel(\"NAME OF THE EMPLOYER\")\n",
        "plot_status_topemp.set_xlabel(\"NUMBER OF PETITIONS\")\n",
        "plot_status_topemp\n",
        "print(df['EMPLOYER_NAME'].value_counts().head(15))"
      ],
      "execution_count": null,
      "outputs": [
        {
          "output_type": "stream",
          "text": [
            "INFOSYS LIMITED                                    130592\n",
            "TATA CONSULTANCY SERVICES LIMITED                  64726 \n",
            "WIPRO LIMITED                                      48117 \n",
            "DELOITTE CONSULTING LLP                            36742 \n",
            "IBM INDIA PRIVATE LIMITED                          34219 \n",
            "ACCENTURE LLP                                      33447 \n",
            "MICROSOFT CORPORATION                              25576 \n",
            "HCL AMERICA, INC.                                  22678 \n",
            "ERNST & YOUNG U.S. LLP                             18232 \n",
            "COGNIZANT TECHNOLOGY SOLUTIONS U.S. CORPORATION    17528 \n",
            "LARSEN & TOUBRO INFOTECH LIMITED                   17457 \n",
            "CAPGEMINI AMERICA INC                              16725 \n",
            "GOOGLE INC.                                        16473 \n",
            "IBM CORPORATION                                    13276 \n",
            "IGATE TECHNOLOGIES INC.                            12564 \n",
            "Name: EMPLOYER_NAME, dtype: int64\n"
          ],
          "name": "stdout"
        },
        {
          "output_type": "display_data",
          "data": {
            "image/png": "[encoded data removed]",
            "text/plain": [
              "<Figure size 504x360 with 1 Axes>"
            ]
          },
          "metadata": {
            "tags": [],
            "needs_background": "light"
          }
        }
      ]
    },
    {
      "cell_type": "markdown",
      "metadata": {
        "id": "tCaf2uzRpHO8",
        "colab_type": "text"
      },
      "source": [
        "### The top 15 SOC names for which H1-B visas are raised"
      ]
    },
    {
      "cell_type": "code",
      "metadata": {
        "id": "rtYzW7CgcBsq",
        "colab_type": "code",
        "colab": {
          "base_uri": "https://localhost:8080/",
          "height": 627
        },
        "outputId": "91e1e014-64f5-49b7-8574-c81ce3b8bfbb"
      },
      "source": [
        "plot_status_topsoc= df['SOC_NAME'].value_counts().head(15).plot.barh(title = \"Top 15 in demand positions SOCs\", \\\n",
        "                                                                 color = 'green', figsize = (7, 5))\n",
        "plot_status_topsoc.set_ylabel(\"SOC NAME\")\n",
        "plot_status_topsoc.set_xlabel(\"NUMBER OF PETITIONS\")\n",
        "plot_status_topsoc\n",
        "print(df['SOC_NAME'].value_counts().head(15))"
      ],
      "execution_count": null,
      "outputs": [
        {
          "output_type": "stream",
          "text": [
            "Computer Systems Analysts                    291170\n",
            "Computer Programmers                         226574\n",
            "SOFTWARE DEVELOPERS, APPLICATIONS            221783\n",
            "COMPUTER SYSTEMS ANALYSTS                    215353\n",
            "Software Developers, Applications            192933\n",
            "COMPUTER PROGRAMMERS                         171972\n",
            "COMPUTER OCCUPATIONS, ALL OTHER              108555\n",
            "Computer Occupations, All Other              69315 \n",
            "Software Developers, Systems Software        44500 \n",
            "SOFTWARE DEVELOPERS, SYSTEMS SOFTWARE        39356 \n",
            "Management Analysts                          38756 \n",
            "Financial Analysts                           34141 \n",
            "Computer Software Engineers, Applications    33325 \n",
            "Accountants and Auditors                     30708 \n",
            "MANAGEMENT ANALYSTS                          28117 \n",
            "Name: SOC_NAME, dtype: int64\n"
          ],
          "name": "stdout"
        },
        {
          "output_type": "display_data",
          "data": {
            "image/png": "[encoded data removed]",
            "text/plain": [
              "<Figure size 504x360 with 1 Axes>"
            ]
          },
          "metadata": {
            "tags": [],
            "needs_background": "light"
          }
        }
      ]
    },
    {
      "cell_type": "markdown",
      "metadata": {
        "id": "I59s5-y8pl4E",
        "colab_type": "text"
      },
      "source": [
        "### Salaries trend per year "
      ]
    },
    {
      "cell_type": "code",
      "metadata": {
        "id": "NA2LPfvccdt7",
        "colab_type": "code",
        "colab": {
          "base_uri": "https://localhost:8080/",
          "height": 231
        },
        "outputId": "68a9cdbb-4a7d-48e8-8109-186bfecab51a"
      },
      "source": [
        "dfplot_status_fyear = pd.DataFrame(df['YEAR'].value_counts())\n",
        "dfplot_status_fyear = dfplot_status_fyear.sort_values(['YEAR'])\n",
        "plot_status_fyear = dfplot_status_fyear.plot(title = 'H1-B Petitions per year', kind = 'line')\n",
        "plot_status_fyear.set_xlabel('YEAR')\n",
        "plot_status_fyear.set_ylabel('NUMBER OF PETITIONS')\n",
        "plt.show()\n",
        "\n",
        "dfstatus_acceptance_peryear = pd.DataFrame(df[df['CASE_STATUS'] == 'CERTIFIED'].YEAR.value_counts() / df.YEAR.value_counts())\n",
        "dfstatus_acceptance_peryear = dfstatus_acceptance_peryear.sort_values(['YEAR'])\n",
        "status_acceptance_peryear = dfstatus_acceptance_peryear.plot(title = 'H1-B Petitions acceptance per year', kind = 'line')\n",
        "status_acceptance_peryear.set_xlabel('YEAR')\n",
        "status_acceptance_peryear.set_ylabel('ACCEPTANCE RATIO')\n",
        "plt.show()"
      ],
      "execution_count": null,
      "outputs": [
        {
          "output_type": "error",
          "ename": "NameError",
          "evalue": "ignored",
          "traceback": [
            "\u001b[0;31m---------------------------------------------------------------------------\u001b[0m",
            "\u001b[0;31mNameError\u001b[0m                                 Traceback (most recent call last)",
            "\u001b[0;32m<ipython-input-5-ebb02da09460>\u001b[0m in \u001b[0;36m<module>\u001b[0;34m()\u001b[0m\n\u001b[0;32m----> 1\u001b[0;31m \u001b[0mdfplot_status_fyear\u001b[0m \u001b[0;34m=\u001b[0m \u001b[0mpd\u001b[0m\u001b[0;34m.\u001b[0m\u001b[0mDataFrame\u001b[0m\u001b[0;34m(\u001b[0m\u001b[0mdf\u001b[0m\u001b[0;34m[\u001b[0m\u001b[0;34m'YEAR'\u001b[0m\u001b[0;34m]\u001b[0m\u001b[0;34m.\u001b[0m\u001b[0mvalue_counts\u001b[0m\u001b[0;34m(\u001b[0m\u001b[0;34m)\u001b[0m\u001b[0;34m)\u001b[0m\u001b[0;34m\u001b[0m\u001b[0;34m\u001b[0m\u001b[0m\n\u001b[0m\u001b[1;32m      2\u001b[0m \u001b[0mdfplot_status_fyear\u001b[0m \u001b[0;34m=\u001b[0m \u001b[0mdfplot_status_fyear\u001b[0m\u001b[0;34m.\u001b[0m\u001b[0msort_values\u001b[0m\u001b[0;34m(\u001b[0m\u001b[0;34m[\u001b[0m\u001b[0;34m'YEAR'\u001b[0m\u001b[0;34m]\u001b[0m\u001b[0;34m)\u001b[0m\u001b[0;34m\u001b[0m\u001b[0;34m\u001b[0m\u001b[0m\n\u001b[1;32m      3\u001b[0m \u001b[0mplot_status_fyear\u001b[0m \u001b[0;34m=\u001b[0m \u001b[0mdfplot_status_fyear\u001b[0m\u001b[0;34m.\u001b[0m\u001b[0mplot\u001b[0m\u001b[0;34m(\u001b[0m\u001b[0mtitle\u001b[0m \u001b[0;34m=\u001b[0m \u001b[0;34m'H1-B Petitions per year'\u001b[0m\u001b[0;34m,\u001b[0m \u001b[0mkind\u001b[0m \u001b[0;34m=\u001b[0m \u001b[0;34m'line'\u001b[0m\u001b[0;34m)\u001b[0m\u001b[0;34m\u001b[0m\u001b[0;34m\u001b[0m\u001b[0m\n\u001b[1;32m      4\u001b[0m \u001b[0mplot_status_fyear\u001b[0m\u001b[0;34m.\u001b[0m\u001b[0mset_xlabel\u001b[0m\u001b[0;34m(\u001b[0m\u001b[0;34m'YEAR'\u001b[0m\u001b[0;34m)\u001b[0m\u001b[0;34m\u001b[0m\u001b[0;34m\u001b[0m\u001b[0m\n\u001b[1;32m      5\u001b[0m \u001b[0mplot_status_fyear\u001b[0m\u001b[0;34m.\u001b[0m\u001b[0mset_ylabel\u001b[0m\u001b[0;34m(\u001b[0m\u001b[0;34m'NUMBER OF PETITIONS'\u001b[0m\u001b[0;34m)\u001b[0m\u001b[0;34m\u001b[0m\u001b[0;34m\u001b[0m\u001b[0m\n",
            "\u001b[0;31mNameError\u001b[0m: name 'pd' is not defined"
          ]
        }
      ]
    },
    {
      "cell_type": "code",
      "metadata": {
        "id": "V9lCmTVlUxaQ",
        "colab_type": "code",
        "colab": {
          "base_uri": "https://localhost:8080/",
          "height": 587
        },
        "outputId": "9f76cca7-c299-47b4-d815-cd35c95f07e7"
      },
      "source": [
        "dfsalaries_trends_year = df.loc[:,['PREVAILING_WAGE', 'YEAR']].groupby(['YEAR']).agg(['median'])\n",
        "\n",
        "plot_salaries_trends_year = dfsalaries_trends_year.plot(kind = 'bar', color = 'g', legend = None)\n",
        "plot_salaries_trends_year.set_xlabel('YEAR')\n",
        "plot_salaries_trends_year.set_ylabel('MEDIAN WAGE')\n",
        "plt.show()\n",
        "dfsalaries_trends_year\n",
        "\n"
      ],
      "execution_count": null,
      "outputs": [
        {
          "output_type": "display_data",
          "data": {
            "image/png": "[encoded data removed]",
            "text/plain": [
              "<Figure size 432x288 with 1 Axes>"
            ]
          },
          "metadata": {
            "tags": [],
            "needs_background": "light"
          }
        },
        {
          "output_type": "execute_result",
          "data": {
            "text/html": [
              "<div>\n",
              "<style scoped>\n",
              "    .dataframe tbody tr th:only-of-type {\n",
              "        vertical-align: middle;\n",
              "    }\n",
              "\n",
              "    .dataframe tbody tr th {\n",
              "        vertical-align: top;\n",
              "    }\n",
              "\n",
              "    .dataframe thead tr th {\n",
              "        text-align: left;\n",
              "    }\n",
              "\n",
              "    .dataframe thead tr:last-of-type th {\n",
              "        text-align: right;\n",
              "    }\n",
              "</style>\n",
              "<table border=\"1\" class=\"dataframe\">\n",
              "  <thead>\n",
              "    <tr>\n",
              "      <th></th>\n",
              "      <th>PREVAILING_WAGE</th>\n",
              "    </tr>\n",
              "    <tr>\n",
              "      <th></th>\n",
              "      <th>median</th>\n",
              "    </tr>\n",
              "    <tr>\n",
              "      <th>YEAR</th>\n",
              "      <th></th>\n",
              "    </tr>\n",
              "  </thead>\n",
              "  <tbody>\n",
              "    <tr>\n",
              "      <th>2011.0</th>\n",
              "      <td>60882.0</td>\n",
              "    </tr>\n",
              "    <tr>\n",
              "      <th>2012.0</th>\n",
              "      <td>62462.0</td>\n",
              "    </tr>\n",
              "    <tr>\n",
              "      <th>2013.0</th>\n",
              "      <td>63939.0</td>\n",
              "    </tr>\n",
              "    <tr>\n",
              "      <th>2014.0</th>\n",
              "      <td>64958.0</td>\n",
              "    </tr>\n",
              "    <tr>\n",
              "      <th>2015.0</th>\n",
              "      <td>66394.0</td>\n",
              "    </tr>\n",
              "    <tr>\n",
              "      <th>2016.0</th>\n",
              "      <td>68411.0</td>\n",
              "    </tr>\n",
              "  </tbody>\n",
              "</table>\n",
              "</div>"
            ],
            "text/plain": [
              "       PREVAILING_WAGE\n",
              "                median\n",
              "YEAR                  \n",
              "2011.0  60882.0       \n",
              "2012.0  62462.0       \n",
              "2013.0  63939.0       \n",
              "2014.0  64958.0       \n",
              "2015.0  66394.0       \n",
              "2016.0  68411.0       "
            ]
          },
          "metadata": {
            "tags": []
          },
          "execution_count": 34
        }
      ]
    },
    {
      "cell_type": "markdown",
      "metadata": {
        "id": "t6LMPHznp5UJ",
        "colab_type": "text"
      },
      "source": [
        " # Features Creation and Categorisation"
      ]
    },
    {
      "cell_type": "code",
      "metadata": {
        "id": "Dn0wn8I2VP8t",
        "colab_type": "code",
        "colab": {
          "base_uri": "https://localhost:8080/",
          "height": 51
        },
        "outputId": "0c835ed7-254e-4e8c-dcd9-893e40cf70d6"
      },
      "source": [
        "print(df['CASE_STATUS'].unique())\n",
        "df = df.loc[df['CASE_STATUS'].isin([\"CERTIFIED\", \"DENIED\"])]"
      ],
      "execution_count": null,
      "outputs": [
        {
          "output_type": "stream",
          "text": [
            "['CERTIFIED-WITHDRAWN' 'WITHDRAWN' 'CERTIFIED' 'DENIED' 'REJECTED'\n",
            " 'INVALIDATED' 'PENDING QUALITY AND COMPLIANCE REVIEW - UNASSIGNED' nan]\n"
          ],
          "name": "stdout"
        }
      ]
    },
    {
      "cell_type": "markdown",
      "metadata": {
        "id": "yvplWbwZp_P4",
        "colab_type": "text"
      },
      "source": [
        "###  Remove rows with null values for EMPLOYER_NAME, SOC_NAME, JOB_TITLE, FULL_TIME_POSITION, PREVAILING_WAGE"
      ]
    },
    {
      "cell_type": "code",
      "metadata": {
        "id": "fsSBf6P9Vb1c",
        "colab_type": "code",
        "colab": {
          "base_uri": "https://localhost:8080/",
          "height": 225
        },
        "outputId": "7e08fcbe-b492-42d4-c7ed-3fc1dfa77a90"
      },
      "source": [
        "df.isnull().sum(axis = 0)"
      ],
      "execution_count": null,
      "outputs": [
        {
          "output_type": "execute_result",
          "data": {
            "text/plain": [
              "Unnamed: 0            0    \n",
              "CASE_STATUS           0    \n",
              "EMPLOYER_NAME         18   \n",
              "SOC_NAME              15893\n",
              "JOB_TITLE             10   \n",
              "FULL_TIME_POSITION    1    \n",
              "PREVAILING_WAGE       53   \n",
              "YEAR                  0    \n",
              "WORKSITE              0    \n",
              "lon                   97071\n",
              "lat                   97071\n",
              "dtype: int64"
            ]
          },
          "metadata": {
            "tags": []
          },
          "execution_count": 21
        }
      ]
    },
    {
      "cell_type": "code",
      "metadata": {
        "id": "VuvHwbU8Vhun",
        "colab_type": "code",
        "colab": {}
      },
      "source": [
        "df1 = df.dropna(axis=0, how='any', subset = ['EMPLOYER_NAME', 'SOC_NAME', 'JOB_TITLE', \n",
        "                                                      'FULL_TIME_POSITION', 'PREVAILING_WAGE'])"
      ],
      "execution_count": null,
      "outputs": []
    },
    {
      "cell_type": "markdown",
      "metadata": {
        "id": "LOfRTTy3qGEp",
        "colab_type": "text"
      },
      "source": [
        "###Find the number of certified and denied of all the needed columns with their count"
      ]
    },
    {
      "cell_type": "code",
      "metadata": {
        "id": "xALKoaveVtv1",
        "colab_type": "code",
        "colab": {
          "base_uri": "https://localhost:8080/",
          "height": 51
        },
        "outputId": "3d4e0044-be44-462b-a338-9e1f6fef0721"
      },
      "source": [
        "print(df.shape)\n",
        "print(df1.shape)"
      ],
      "execution_count": null,
      "outputs": [
        {
          "output_type": "stream",
          "text": [
            "(2709969, 11)\n",
            "(2694002, 11)\n"
          ],
          "name": "stdout"
        }
      ]
    },
    {
      "cell_type": "code",
      "metadata": {
        "id": "TzMMFYCbVyIj",
        "colab_type": "code",
        "colab": {
          "base_uri": "https://localhost:8080/",
          "height": 69
        },
        "outputId": "93f5534f-ea6d-4782-a94c-aed0c502a316"
      },
      "source": [
        "df1.CASE_STATUS.value_counts()"
      ],
      "execution_count": null,
      "outputs": [
        {
          "output_type": "execute_result",
          "data": {
            "text/plain": [
              "CERTIFIED    2600241\n",
              "DENIED       93761  \n",
              "Name: CASE_STATUS, dtype: int64"
            ]
          },
          "metadata": {
            "tags": []
          },
          "execution_count": 24
        }
      ]
    },
    {
      "cell_type": "markdown",
      "metadata": {
        "id": "FTUFVRf7qJ-6",
        "colab_type": "text"
      },
      "source": [
        "###Downsampling the Data to match the ratio of certified and denied samples"
      ]
    },
    {
      "cell_type": "code",
      "metadata": {
        "id": "CKlmc50IV3YP",
        "colab_type": "code",
        "colab": {}
      },
      "source": [
        "table_temp_2_Dx = df1[df1['CASE_STATUS'] == 'DENIED']\n"
      ],
      "execution_count": null,
      "outputs": []
    },
    {
      "cell_type": "code",
      "metadata": {
        "id": "e9ne4SaJWCSx",
        "colab_type": "code",
        "colab": {}
      },
      "source": [
        "table_temp_2_Cx = df1[df1['CASE_STATUS'] == 'CERTIFIED']\n"
      ],
      "execution_count": null,
      "outputs": []
    },
    {
      "cell_type": "code",
      "metadata": {
        "id": "mgR9xRC8WJni",
        "colab_type": "code",
        "colab": {}
      },
      "source": [
        "Input_Certified, Input_Certified_extra, y_certified, y_certified_extra = train_test_split(df1[df1.CASE_STATUS == 'CERTIFIED'],\\\n",
        "                                                                                          table_temp_2_Cx.CASE_STATUS, train_size= 0.06, random_state=1)"
      ],
      "execution_count": null,
      "outputs": []
    },
    {
      "cell_type": "code",
      "metadata": {
        "id": "h3JyA6zJWZMh",
        "colab_type": "code",
        "colab": {}
      },
      "source": [
        "training_dataframe = Input_Certified.append(table_temp_2_Dx)"
      ],
      "execution_count": null,
      "outputs": []
    },
    {
      "cell_type": "code",
      "metadata": {
        "id": "mmMFXhD3WdB7",
        "colab_type": "code",
        "colab": {
          "base_uri": "https://localhost:8080/",
          "height": 336
        },
        "outputId": "9d783995-2155-4dfe-9c8d-8aa55ba4793b"
      },
      "source": [
        "## plot the distribution of the certified and denied samples after downsampling\n",
        "plot_after_ds = training_dataframe['CASE_STATUS'].value_counts().plot(title = 'CASE STATUS vs NUMBER OF PETITIONS', \\\n",
        "                                                                kind = 'bar', color = 'green')\n",
        "plot_after_ds.set_xlabel(\"CASE STATUS\")\n",
        "plot_after_ds.set_ylabel(\"NUMBER OF PETITIONS\")\n",
        "for p in plot_after_ds.patches:\n",
        "    plot_after_ds.annotate(str(p.get_height()), (p.get_x() * 1.0050, p.get_height() * 1.005))\n",
        "plt.show()"
      ],
      "execution_count": null,
      "outputs": [
        {
          "output_type": "display_data",
          "data": {
            "image/png": "[encoded data removed]",
            "text/plain": [
              "<Figure size 432x288 with 1 Axes>"
            ]
          },
          "metadata": {
            "tags": [],
            "needs_background": "light"
          }
        }
      ]
    },
    {
      "cell_type": "markdown",
      "metadata": {
        "id": "zouENfStpzoS",
        "colab_type": "text"
      },
      "source": [
        " # Features Creation and Categorisation"
      ]
    },
    {
      "cell_type": "markdown",
      "metadata": {
        "id": "fe8SpQSHnAES",
        "colab_type": "text"
      },
      "source": [
        "For the given categorical data, they need to convert it to numerical values\n",
        "\n",
        "There are three ways to convert the categorical data to numerical ones.\n",
        "\n",
        "1. Encoding to ordinal values\n",
        "2. Feature Hashing\n",
        "3. One-Hot Encoding\n",
        "\n",
        "Prior selecting any of the above methods, it is necessary to get the details of the unique values for each of the columns/Features. Below is the plot for the same."
      ]
    },
    {
      "cell_type": "code",
      "metadata": {
        "id": "LL9F9G0nWkNb",
        "colab_type": "code",
        "colab": {
          "base_uri": "https://localhost:8080/",
          "height": 155
        },
        "outputId": "495e76ea-1aa4-44dd-e042-730b62ba5f59"
      },
      "source": [
        "# one-hot encoding for every possible and needed column\n",
        "print(\"Case Status \",training_dataframe.CASE_STATUS.nunique())\n",
        "print(\"Unique Employers \",training_dataframe.EMPLOYER_NAME.nunique())\n",
        "print(\"Prevailing Wages \",training_dataframe.PREVAILING_WAGE.nunique())\n",
        "print(\"Unique SOCs \", training_dataframe.SOC_NAME.nunique())\n",
        "print(\"Unique Job Titles \",training_dataframe.JOB_TITLE.nunique())\n",
        "print(\"Unique Filing Year \",training_dataframe.YEAR.nunique())\n",
        "print(\"Unique Worksite State \",training_dataframe.WORKSITE.nunique())\n",
        "print(\"Unique Employment Type \", training_dataframe.FULL_TIME_POSITION.nunique())"
      ],
      "execution_count": null,
      "outputs": [
        {
          "output_type": "stream",
          "text": [
            "Case Status  2\n",
            "Unique Employers  80566\n",
            "Prevailing Wages  24804\n",
            "Unique SOCs  1435\n",
            "Unique Job Titles  53272\n",
            "Unique Filing Year  6\n",
            "Unique Worksite State  8637\n",
            "Unique Employment Type  2\n"
          ],
          "name": "stdout"
        }
      ]
    },
    {
      "cell_type": "markdown",
      "metadata": {
        "id": "08sHAqA_nM4j",
        "colab_type": "text"
      },
      "source": [
        "### Step 8: Feature Categorisation Functions"
      ]
    },
    {
      "cell_type": "code",
      "metadata": {
        "id": "-BXuAbO0X34J",
        "colab_type": "code",
        "colab": {}
      },
      "source": [
        "def wage_categorization(wage):\n",
        "    if wage <=50000:\n",
        "        return \"VERY LOW\"\n",
        "    elif wage >50000 and wage <= 70000:\n",
        "        return \"LOW\"\n",
        "    elif wage >70000 and wage <= 90000:\n",
        "        return \"MEDIUM\"\n",
        "    elif wage >90000 and wage<=150000:\n",
        "        return \"HIGH\"\n",
        "    elif wage >=150000:\n",
        "        return \"VERY HIGH\""
      ],
      "execution_count": null,
      "outputs": []
    },
    {
      "cell_type": "code",
      "metadata": {
        "id": "y7zytOqtX9bd",
        "colab_type": "code",
        "colab": {}
      },
      "source": [
        "def categorisation_visagrant(ratio_of_acceptance):\n",
        "    if ratio_of_acceptance == -1:\n",
        "        return \"AR\"\n",
        "    elif ratio_of_acceptance >=0.0 and ratio_of_acceptance<0.20:\n",
        "        return \"VLA\"\n",
        "    elif ratio_of_acceptance>=0.20 and ratio_of_acceptance<0.40:\n",
        "        return \"LA\"\n",
        "    elif ratio_of_acceptance>=0.40 and ratio_of_acceptance<0.60:\n",
        "        return \"MA\"\n",
        "    elif ratio_of_acceptance>=0.60 and ratio_of_acceptance<0.80:\n",
        "        return \"HA\"\n",
        "    elif ratio_of_acceptance>=0.80:\n",
        "        return \"VHA\""
      ],
      "execution_count": null,
      "outputs": []
    },
    {
      "cell_type": "code",
      "metadata": {
        "id": "6iG31JFXYBiD",
        "colab_type": "code",
        "colab": {}
      },
      "source": [
        "def state_extractor(work_site):\n",
        "    return work_site.split(', ')[1]"
      ],
      "execution_count": null,
      "outputs": []
    },
    {
      "cell_type": "code",
      "metadata": {
        "id": "wcwGETgkYF_v",
        "colab_type": "code",
        "colab": {}
      },
      "source": [
        "training_dataframe['WORKSITE'] = training_dataframe['WORKSITE'].apply(state_extractor)"
      ],
      "execution_count": null,
      "outputs": []
    },
    {
      "cell_type": "code",
      "metadata": {
        "id": "nc1u5MzrYJ13",
        "colab_type": "code",
        "colab": {
          "base_uri": "https://localhost:8080/",
          "height": 207
        },
        "outputId": "518b8255-1c3b-4d69-802c-c447a50a5068"
      },
      "source": [
        "training_dataframe.WORKSITE.unique()\n"
      ],
      "execution_count": null,
      "outputs": [
        {
          "output_type": "execute_result",
          "data": {
            "text/plain": [
              "array(['PENNSYLVANIA', 'TEXAS', 'NEW YORK', 'CALIFORNIA', 'CONNECTICUT',\n",
              "       'WASHINGTON', 'MISSOURI', 'OREGON', 'VIRGINIA', 'MASSACHUSETTS',\n",
              "       'OHIO', 'ILLINOIS', 'FLORIDA', 'TENNESSEE', 'IDAHO', 'MARYLAND',\n",
              "       'GEORGIA', 'NORTH CAROLINA', 'NEBRASKA', 'MINNESOTA', 'DELAWARE',\n",
              "       'NEW HAMPSHIRE', 'ALABAMA', 'NEW JERSEY', 'WISCONSIN', 'ARIZONA',\n",
              "       'INDIANA', 'MICHIGAN', 'IOWA', 'COLORADO', 'NEW MEXICO',\n",
              "       'SOUTH CAROLINA', 'LOUISIANA', 'UTAH', 'KENTUCKY', 'ALASKA',\n",
              "       'DISTRICT OF COLUMBIA', 'OKLAHOMA', 'ARKANSAS', 'RHODE ISLAND',\n",
              "       'VERMONT', 'MAINE', 'MISSISSIPPI', 'NA', 'KANSAS', 'NEVADA',\n",
              "       'HAWAII', 'WYOMING', 'PUERTO RICO', 'WEST VIRGINIA', 'MONTANA',\n",
              "       'NORTH DAKOTA', 'SOUTH DAKOTA'], dtype=object)"
            ]
          },
          "metadata": {
            "tags": []
          },
          "execution_count": 39
        }
      ]
    },
    {
      "cell_type": "markdown",
      "metadata": {
        "id": "WccNUvVDnUjf",
        "colab_type": "text"
      },
      "source": [
        "### Step 9: Feature Creation for One-Hot Encoding"
      ]
    },
    {
      "cell_type": "code",
      "metadata": {
        "id": "DHL1soK1YLhA",
        "colab_type": "code",
        "colab": {}
      },
      "source": [
        "training_dataframe['WAGE_CATEGORY'] = training_dataframe['PREVAILING_WAGE'].apply(wage_categorization)"
      ],
      "execution_count": null,
      "outputs": []
    },
    {
      "cell_type": "code",
      "metadata": {
        "id": "rPkjWVN-ZJqz",
        "colab_type": "code",
        "colab": {}
      },
      "source": [
        "training_dataframe_1 = training_dataframe.loc[:,['EMPLOYER_NAME', 'CASE_STATUS']]\n",
        "training_dataframe_1s = training_dataframe.loc[:,['SOC_NAME', 'CASE_STATUS']]\n",
        "training_dataframe_1j = training_dataframe.loc[:,['JOB_TITLE', 'CASE_STATUS']]\n"
      ],
      "execution_count": null,
      "outputs": []
    },
    {
      "cell_type": "code",
      "metadata": {
        "id": "wNfoqtnvZOC0",
        "colab_type": "code",
        "colab": {}
      },
      "source": [
        "training_dataframe_2_C = training_dataframe_1[training_dataframe_1.CASE_STATUS == 'CERTIFIED'].EMPLOYER_NAME\n",
        "training_dataframe_2_Cs = training_dataframe_1s[training_dataframe_1s.CASE_STATUS == 'CERTIFIED'].SOC_NAME\n",
        "training_dataframe_2_Cj = training_dataframe_1j[training_dataframe_1j.CASE_STATUS == 'CERTIFIED'].JOB_TITLE\n",
        "positive_counts = training_dataframe_2_C.value_counts()\n",
        "positive_counts_s = training_dataframe_2_Cs.value_counts()\n",
        "positive_counts_j = training_dataframe_2_Cj.value_counts()"
      ],
      "execution_count": null,
      "outputs": []
    },
    {
      "cell_type": "code",
      "metadata": {
        "id": "9a5DOUzuZSc9",
        "colab_type": "code",
        "colab": {}
      },
      "source": [
        "total_counts = training_dataframe_1.EMPLOYER_NAME.value_counts()\n",
        "total_counts_s = training_dataframe_1s.SOC_NAME.value_counts()\n",
        "total_counts_j = training_dataframe_1j.JOB_TITLE.value_counts()\n"
      ],
      "execution_count": null,
      "outputs": []
    },
    {
      "cell_type": "code",
      "metadata": {
        "id": "esx8A0NvZVLO",
        "colab_type": "code",
        "colab": {}
      },
      "source": [
        "final_ratio_series = positive_counts / total_counts\n",
        "\n",
        "final_ratio_series.fillna(-1, inplace=True)\n",
        "final_classification_employer = final_ratio_series.apply(categorisation_visagrant)\n",
        "training_dataframe['EMPLOYER_ACCEPTANCE'] = training_dataframe.EMPLOYER_NAME.map(final_classification_employer)"
      ],
      "execution_count": null,
      "outputs": []
    },
    {
      "cell_type": "code",
      "metadata": {
        "id": "xqD6_48vZX0M",
        "colab_type": "code",
        "colab": {}
      },
      "source": [
        "final_ratio_series_s = positive_counts_s / total_counts_s\n",
        "final_ratio_series_s.fillna(-1, inplace=True)\n",
        "final_classification_soc = final_ratio_series_s.apply(categorisation_visagrant)\n",
        "training_dataframe['SOC_ACCEPTANCE'] = training_dataframe.SOC_NAME.map(final_classification_soc)"
      ],
      "execution_count": null,
      "outputs": []
    },
    {
      "cell_type": "code",
      "metadata": {
        "id": "FiKZBCgvZabt",
        "colab_type": "code",
        "colab": {}
      },
      "source": [
        "final_ratio_series_j = positive_counts_j / total_counts_j\n",
        "final_ratio_series_j.fillna(-1, inplace=True)\n",
        "final_classification_job = final_ratio_series_j.apply(categorisation_visagrant)\n",
        "training_dataframe['JOB_ACCEPTANCE'] = training_dataframe.JOB_TITLE.map(final_classification_job)"
      ],
      "execution_count": null,
      "outputs": []
    },
    {
      "cell_type": "code",
      "metadata": {
        "id": "R1eo-NkkZdpm",
        "colab_type": "code",
        "colab": {
          "base_uri": "https://localhost:8080/",
          "height": 155
        },
        "outputId": "a704aa32-8e4b-42b2-98cc-8c0c60723038"
      },
      "source": [
        "print(\"Case Status \",training_dataframe.CASE_STATUS.nunique())\n",
        "print(\"Unique Employers \",training_dataframe.EMPLOYER_ACCEPTANCE.nunique())\n",
        "print(\"Wages Category\", training_dataframe.WAGE_CATEGORY.nunique())\n",
        "print(\"Unique SOCs \", training_dataframe.SOC_ACCEPTANCE.nunique())\n",
        "print(\"Unique Job Titles \",training_dataframe.JOB_ACCEPTANCE.nunique())\n",
        "print(\"Unique Filing Year \",training_dataframe.YEAR.nunique())\n",
        "print(\"Unique Worksite State \",training_dataframe.WORKSITE.nunique())\n",
        "print(\"Unique Employment Type \", training_dataframe.FULL_TIME_POSITION.nunique())"
      ],
      "execution_count": null,
      "outputs": [
        {
          "output_type": "stream",
          "text": [
            "Case Status  2\n",
            "Unique Employers  6\n",
            "Wages Category 5\n",
            "Unique SOCs  6\n",
            "Unique Job Titles  6\n",
            "Unique Filing Year  6\n",
            "Unique Worksite State  53\n",
            "Unique Employment Type  2\n"
          ],
          "name": "stdout"
        }
      ]
    },
    {
      "cell_type": "code",
      "metadata": {
        "id": "gOfDvXs3Zj3v",
        "colab_type": "code",
        "colab": {}
      },
      "source": [
        "dict_cs = {\"CERTIFIED\" : 1, \"DENIED\": 0}\n",
        "dict_fp = {\"Y\" : 1, \"N\" : 0}\n",
        "try:\n",
        "    \n",
        "    training_dataframe['CASE_STATUS'] = training_dataframe['CASE_STATUS'].apply(lambda x: dict_cs[x])\n",
        "    training_dataframe['FULL_TIME_POSITION'] = training_dataframe['FULL_TIME_POSITION'].apply(lambda x: dict_fp[x])\n",
        "except:\n",
        "    pass"
      ],
      "execution_count": null,
      "outputs": []
    },
    {
      "cell_type": "code",
      "metadata": {
        "id": "Yl-4xrx4Zmlu",
        "colab_type": "code",
        "colab": {
          "base_uri": "https://localhost:8080/",
          "height": 206
        },
        "outputId": "a13fe19d-4803-4c7a-c02d-c01e2c8c59ae"
      },
      "source": [
        "training_dataframe['YEAR'] = training_dataframe['YEAR'].astype('int')\n",
        "training_dataframe.sort_index(inplace = True)\n",
        "training_dataframe = training_dataframe.loc[:, ['CASE_STATUS', 'YEAR',\\\n",
        "                                                'WORKSITE', 'WAGE_CATEGORY',  'EMPLOYER_ACCEPTANCE', 'JOB_ACCEPTANCE', 'SOC_ACCEPTANCE', 'FULL_TIME_POSITION']]\n",
        "training_dataframe.head()"
      ],
      "execution_count": null,
      "outputs": [
        {
          "output_type": "execute_result",
          "data": {
            "text/html": [
              "<div>\n",
              "<style scoped>\n",
              "    .dataframe tbody tr th:only-of-type {\n",
              "        vertical-align: middle;\n",
              "    }\n",
              "\n",
              "    .dataframe tbody tr th {\n",
              "        vertical-align: top;\n",
              "    }\n",
              "\n",
              "    .dataframe thead th {\n",
              "        text-align: right;\n",
              "    }\n",
              "</style>\n",
              "<table border=\"1\" class=\"dataframe\">\n",
              "  <thead>\n",
              "    <tr style=\"text-align: right;\">\n",
              "      <th></th>\n",
              "      <th>CASE_STATUS</th>\n",
              "      <th>YEAR</th>\n",
              "      <th>WORKSITE</th>\n",
              "      <th>WAGE_CATEGORY</th>\n",
              "      <th>EMPLOYER_ACCEPTANCE</th>\n",
              "      <th>JOB_ACCEPTANCE</th>\n",
              "      <th>SOC_ACCEPTANCE</th>\n",
              "      <th>FULL_TIME_POSITION</th>\n",
              "    </tr>\n",
              "  </thead>\n",
              "  <tbody>\n",
              "    <tr>\n",
              "      <th>39</th>\n",
              "      <td>0</td>\n",
              "      <td>2016</td>\n",
              "      <td>WASHINGTON</td>\n",
              "      <td>VERY HIGH</td>\n",
              "      <td>AR</td>\n",
              "      <td>LA</td>\n",
              "      <td>MA</td>\n",
              "      <td>1</td>\n",
              "    </tr>\n",
              "    <tr>\n",
              "      <th>47</th>\n",
              "      <td>0</td>\n",
              "      <td>2016</td>\n",
              "      <td>CALIFORNIA</td>\n",
              "      <td>VERY HIGH</td>\n",
              "      <td>AR</td>\n",
              "      <td>LA</td>\n",
              "      <td>MA</td>\n",
              "      <td>1</td>\n",
              "    </tr>\n",
              "    <tr>\n",
              "      <th>66</th>\n",
              "      <td>1</td>\n",
              "      <td>2016</td>\n",
              "      <td>GEORGIA</td>\n",
              "      <td>VERY HIGH</td>\n",
              "      <td>VHA</td>\n",
              "      <td>LA</td>\n",
              "      <td>MA</td>\n",
              "      <td>1</td>\n",
              "    </tr>\n",
              "    <tr>\n",
              "      <th>70</th>\n",
              "      <td>1</td>\n",
              "      <td>2016</td>\n",
              "      <td>PENNSYLVANIA</td>\n",
              "      <td>VERY HIGH</td>\n",
              "      <td>VHA</td>\n",
              "      <td>LA</td>\n",
              "      <td>MA</td>\n",
              "      <td>1</td>\n",
              "    </tr>\n",
              "    <tr>\n",
              "      <th>91</th>\n",
              "      <td>0</td>\n",
              "      <td>2016</td>\n",
              "      <td>MICHIGAN</td>\n",
              "      <td>HIGH</td>\n",
              "      <td>AR</td>\n",
              "      <td>VLA</td>\n",
              "      <td>MA</td>\n",
              "      <td>1</td>\n",
              "    </tr>\n",
              "  </tbody>\n",
              "</table>\n",
              "</div>"
            ],
            "text/plain": [
              "    CASE_STATUS  YEAR  ... SOC_ACCEPTANCE FULL_TIME_POSITION\n",
              "39  0            2016  ...  MA             1                \n",
              "47  0            2016  ...  MA             1                \n",
              "66  1            2016  ...  MA             1                \n",
              "70  1            2016  ...  MA             1                \n",
              "91  0            2016  ...  MA             1                \n",
              "\n",
              "[5 rows x 8 columns]"
            ]
          },
          "metadata": {
            "tags": []
          },
          "execution_count": 52
        }
      ]
    },
    {
      "cell_type": "markdown",
      "metadata": {
        "id": "UcXWstccnjDf",
        "colab_type": "text"
      },
      "source": [
        "### Step 10: Apply One-hot encoding"
      ]
    },
    {
      "cell_type": "code",
      "metadata": {
        "id": "iZTIiAJlZxVl",
        "colab_type": "code",
        "colab": {
          "base_uri": "https://localhost:8080/",
          "height": 243
        },
        "outputId": "6e6ec984-46df-4b73-8a6c-6cecd836e412"
      },
      "source": [
        "final_df_train = pd.get_dummies(training_dataframe, columns=['YEAR', 'WORKSITE', 'FULL_TIME_POSITION', 'WAGE_CATEGORY', 'EMPLOYER_ACCEPTANCE',\n",
        "                                                             \n",
        "                                                                'JOB_ACCEPTANCE', 'SOC_ACCEPTANCE' ], drop_first=True)\n",
        "final_df_train.head()\n",
        "\n",
        "\n",
        "#Step 11 is not executing here due to iteration number"
      ],
      "execution_count": null,
      "outputs": [
        {
          "output_type": "execute_result",
          "data": {
            "text/html": [
              "<div>\n",
              "<style scoped>\n",
              "    .dataframe tbody tr th:only-of-type {\n",
              "        vertical-align: middle;\n",
              "    }\n",
              "\n",
              "    .dataframe tbody tr th {\n",
              "        vertical-align: top;\n",
              "    }\n",
              "\n",
              "    .dataframe thead th {\n",
              "        text-align: right;\n",
              "    }\n",
              "</style>\n",
              "<table border=\"1\" class=\"dataframe\">\n",
              "  <thead>\n",
              "    <tr style=\"text-align: right;\">\n",
              "      <th></th>\n",
              "      <th>CASE_STATUS</th>\n",
              "      <th>YEAR_2012</th>\n",
              "      <th>YEAR_2013</th>\n",
              "      <th>YEAR_2014</th>\n",
              "      <th>YEAR_2015</th>\n",
              "      <th>YEAR_2016</th>\n",
              "      <th>WORKSITE_ALASKA</th>\n",
              "      <th>WORKSITE_ARIZONA</th>\n",
              "      <th>WORKSITE_ARKANSAS</th>\n",
              "      <th>WORKSITE_CALIFORNIA</th>\n",
              "      <th>WORKSITE_COLORADO</th>\n",
              "      <th>WORKSITE_CONNECTICUT</th>\n",
              "      <th>WORKSITE_DELAWARE</th>\n",
              "      <th>WORKSITE_DISTRICT OF COLUMBIA</th>\n",
              "      <th>WORKSITE_FLORIDA</th>\n",
              "      <th>WORKSITE_GEORGIA</th>\n",
              "      <th>WORKSITE_HAWAII</th>\n",
              "      <th>WORKSITE_IDAHO</th>\n",
              "      <th>WORKSITE_ILLINOIS</th>\n",
              "      <th>WORKSITE_INDIANA</th>\n",
              "      <th>WORKSITE_IOWA</th>\n",
              "      <th>WORKSITE_KANSAS</th>\n",
              "      <th>WORKSITE_KENTUCKY</th>\n",
              "      <th>WORKSITE_LOUISIANA</th>\n",
              "      <th>WORKSITE_MAINE</th>\n",
              "      <th>WORKSITE_MARYLAND</th>\n",
              "      <th>WORKSITE_MASSACHUSETTS</th>\n",
              "      <th>WORKSITE_MICHIGAN</th>\n",
              "      <th>WORKSITE_MINNESOTA</th>\n",
              "      <th>WORKSITE_MISSISSIPPI</th>\n",
              "      <th>WORKSITE_MISSOURI</th>\n",
              "      <th>WORKSITE_MONTANA</th>\n",
              "      <th>WORKSITE_NA</th>\n",
              "      <th>WORKSITE_NEBRASKA</th>\n",
              "      <th>WORKSITE_NEVADA</th>\n",
              "      <th>WORKSITE_NEW HAMPSHIRE</th>\n",
              "      <th>WORKSITE_NEW JERSEY</th>\n",
              "      <th>WORKSITE_NEW MEXICO</th>\n",
              "      <th>WORKSITE_NEW YORK</th>\n",
              "      <th>WORKSITE_NORTH CAROLINA</th>\n",
              "      <th>WORKSITE_NORTH DAKOTA</th>\n",
              "      <th>WORKSITE_OHIO</th>\n",
              "      <th>WORKSITE_OKLAHOMA</th>\n",
              "      <th>WORKSITE_OREGON</th>\n",
              "      <th>WORKSITE_PENNSYLVANIA</th>\n",
              "      <th>WORKSITE_PUERTO RICO</th>\n",
              "      <th>WORKSITE_RHODE ISLAND</th>\n",
              "      <th>WORKSITE_SOUTH CAROLINA</th>\n",
              "      <th>WORKSITE_SOUTH DAKOTA</th>\n",
              "      <th>WORKSITE_TENNESSEE</th>\n",
              "      <th>WORKSITE_TEXAS</th>\n",
              "      <th>WORKSITE_UTAH</th>\n",
              "      <th>WORKSITE_VERMONT</th>\n",
              "      <th>WORKSITE_VIRGINIA</th>\n",
              "      <th>WORKSITE_WASHINGTON</th>\n",
              "      <th>WORKSITE_WEST VIRGINIA</th>\n",
              "      <th>WORKSITE_WISCONSIN</th>\n",
              "      <th>WORKSITE_WYOMING</th>\n",
              "      <th>FULL_TIME_POSITION_1</th>\n",
              "      <th>WAGE_CATEGORY_LOW</th>\n",
              "      <th>WAGE_CATEGORY_MEDIUM</th>\n",
              "      <th>WAGE_CATEGORY_VERY HIGH</th>\n",
              "      <th>WAGE_CATEGORY_VERY LOW</th>\n",
              "      <th>EMPLOYER_ACCEPTANCE_HA</th>\n",
              "      <th>EMPLOYER_ACCEPTANCE_LA</th>\n",
              "      <th>EMPLOYER_ACCEPTANCE_MA</th>\n",
              "      <th>EMPLOYER_ACCEPTANCE_VHA</th>\n",
              "      <th>EMPLOYER_ACCEPTANCE_VLA</th>\n",
              "      <th>JOB_ACCEPTANCE_HA</th>\n",
              "      <th>JOB_ACCEPTANCE_LA</th>\n",
              "      <th>JOB_ACCEPTANCE_MA</th>\n",
              "      <th>JOB_ACCEPTANCE_VHA</th>\n",
              "      <th>JOB_ACCEPTANCE_VLA</th>\n",
              "      <th>SOC_ACCEPTANCE_HA</th>\n",
              "      <th>SOC_ACCEPTANCE_LA</th>\n",
              "      <th>SOC_ACCEPTANCE_MA</th>\n",
              "      <th>SOC_ACCEPTANCE_VHA</th>\n",
              "      <th>SOC_ACCEPTANCE_VLA</th>\n",
              "    </tr>\n",
              "  </thead>\n",
              "  <tbody>\n",
              "    <tr>\n",
              "      <th>39</th>\n",
              "      <td>0</td>\n",
              "      <td>0</td>\n",
              "      <td>0</td>\n",
              "      <td>0</td>\n",
              "      <td>0</td>\n",
              "      <td>1</td>\n",
              "      <td>0</td>\n",
              "      <td>0</td>\n",
              "      <td>0</td>\n",
              "      <td>0</td>\n",
              "      <td>0</td>\n",
              "      <td>0</td>\n",
              "      <td>0</td>\n",
              "      <td>0</td>\n",
              "      <td>0</td>\n",
              "      <td>0</td>\n",
              "      <td>0</td>\n",
              "      <td>0</td>\n",
              "      <td>0</td>\n",
              "      <td>0</td>\n",
              "      <td>0</td>\n",
              "      <td>0</td>\n",
              "      <td>0</td>\n",
              "      <td>0</td>\n",
              "      <td>0</td>\n",
              "      <td>0</td>\n",
              "      <td>0</td>\n",
              "      <td>0</td>\n",
              "      <td>0</td>\n",
              "      <td>0</td>\n",
              "      <td>0</td>\n",
              "      <td>0</td>\n",
              "      <td>0</td>\n",
              "      <td>0</td>\n",
              "      <td>0</td>\n",
              "      <td>0</td>\n",
              "      <td>0</td>\n",
              "      <td>0</td>\n",
              "      <td>0</td>\n",
              "      <td>0</td>\n",
              "      <td>0</td>\n",
              "      <td>0</td>\n",
              "      <td>0</td>\n",
              "      <td>0</td>\n",
              "      <td>0</td>\n",
              "      <td>0</td>\n",
              "      <td>0</td>\n",
              "      <td>0</td>\n",
              "      <td>0</td>\n",
              "      <td>0</td>\n",
              "      <td>0</td>\n",
              "      <td>0</td>\n",
              "      <td>0</td>\n",
              "      <td>0</td>\n",
              "      <td>1</td>\n",
              "      <td>0</td>\n",
              "      <td>0</td>\n",
              "      <td>0</td>\n",
              "      <td>1</td>\n",
              "      <td>0</td>\n",
              "      <td>0</td>\n",
              "      <td>1</td>\n",
              "      <td>0</td>\n",
              "      <td>0</td>\n",
              "      <td>0</td>\n",
              "      <td>0</td>\n",
              "      <td>0</td>\n",
              "      <td>0</td>\n",
              "      <td>0</td>\n",
              "      <td>1</td>\n",
              "      <td>0</td>\n",
              "      <td>0</td>\n",
              "      <td>0</td>\n",
              "      <td>0</td>\n",
              "      <td>0</td>\n",
              "      <td>1</td>\n",
              "      <td>0</td>\n",
              "      <td>0</td>\n",
              "    </tr>\n",
              "    <tr>\n",
              "      <th>47</th>\n",
              "      <td>0</td>\n",
              "      <td>0</td>\n",
              "      <td>0</td>\n",
              "      <td>0</td>\n",
              "      <td>0</td>\n",
              "      <td>1</td>\n",
              "      <td>0</td>\n",
              "      <td>0</td>\n",
              "      <td>0</td>\n",
              "      <td>1</td>\n",
              "      <td>0</td>\n",
              "      <td>0</td>\n",
              "      <td>0</td>\n",
              "      <td>0</td>\n",
              "      <td>0</td>\n",
              "      <td>0</td>\n",
              "      <td>0</td>\n",
              "      <td>0</td>\n",
              "      <td>0</td>\n",
              "      <td>0</td>\n",
              "      <td>0</td>\n",
              "      <td>0</td>\n",
              "      <td>0</td>\n",
              "      <td>0</td>\n",
              "      <td>0</td>\n",
              "      <td>0</td>\n",
              "      <td>0</td>\n",
              "      <td>0</td>\n",
              "      <td>0</td>\n",
              "      <td>0</td>\n",
              "      <td>0</td>\n",
              "      <td>0</td>\n",
              "      <td>0</td>\n",
              "      <td>0</td>\n",
              "      <td>0</td>\n",
              "      <td>0</td>\n",
              "      <td>0</td>\n",
              "      <td>0</td>\n",
              "      <td>0</td>\n",
              "      <td>0</td>\n",
              "      <td>0</td>\n",
              "      <td>0</td>\n",
              "      <td>0</td>\n",
              "      <td>0</td>\n",
              "      <td>0</td>\n",
              "      <td>0</td>\n",
              "      <td>0</td>\n",
              "      <td>0</td>\n",
              "      <td>0</td>\n",
              "      <td>0</td>\n",
              "      <td>0</td>\n",
              "      <td>0</td>\n",
              "      <td>0</td>\n",
              "      <td>0</td>\n",
              "      <td>0</td>\n",
              "      <td>0</td>\n",
              "      <td>0</td>\n",
              "      <td>0</td>\n",
              "      <td>1</td>\n",
              "      <td>0</td>\n",
              "      <td>0</td>\n",
              "      <td>1</td>\n",
              "      <td>0</td>\n",
              "      <td>0</td>\n",
              "      <td>0</td>\n",
              "      <td>0</td>\n",
              "      <td>0</td>\n",
              "      <td>0</td>\n",
              "      <td>0</td>\n",
              "      <td>1</td>\n",
              "      <td>0</td>\n",
              "      <td>0</td>\n",
              "      <td>0</td>\n",
              "      <td>0</td>\n",
              "      <td>0</td>\n",
              "      <td>1</td>\n",
              "      <td>0</td>\n",
              "      <td>0</td>\n",
              "    </tr>\n",
              "    <tr>\n",
              "      <th>66</th>\n",
              "      <td>1</td>\n",
              "      <td>0</td>\n",
              "      <td>0</td>\n",
              "      <td>0</td>\n",
              "      <td>0</td>\n",
              "      <td>1</td>\n",
              "      <td>0</td>\n",
              "      <td>0</td>\n",
              "      <td>0</td>\n",
              "      <td>0</td>\n",
              "      <td>0</td>\n",
              "      <td>0</td>\n",
              "      <td>0</td>\n",
              "      <td>0</td>\n",
              "      <td>0</td>\n",
              "      <td>1</td>\n",
              "      <td>0</td>\n",
              "      <td>0</td>\n",
              "      <td>0</td>\n",
              "      <td>0</td>\n",
              "      <td>0</td>\n",
              "      <td>0</td>\n",
              "      <td>0</td>\n",
              "      <td>0</td>\n",
              "      <td>0</td>\n",
              "      <td>0</td>\n",
              "      <td>0</td>\n",
              "      <td>0</td>\n",
              "      <td>0</td>\n",
              "      <td>0</td>\n",
              "      <td>0</td>\n",
              "      <td>0</td>\n",
              "      <td>0</td>\n",
              "      <td>0</td>\n",
              "      <td>0</td>\n",
              "      <td>0</td>\n",
              "      <td>0</td>\n",
              "      <td>0</td>\n",
              "      <td>0</td>\n",
              "      <td>0</td>\n",
              "      <td>0</td>\n",
              "      <td>0</td>\n",
              "      <td>0</td>\n",
              "      <td>0</td>\n",
              "      <td>0</td>\n",
              "      <td>0</td>\n",
              "      <td>0</td>\n",
              "      <td>0</td>\n",
              "      <td>0</td>\n",
              "      <td>0</td>\n",
              "      <td>0</td>\n",
              "      <td>0</td>\n",
              "      <td>0</td>\n",
              "      <td>0</td>\n",
              "      <td>0</td>\n",
              "      <td>0</td>\n",
              "      <td>0</td>\n",
              "      <td>0</td>\n",
              "      <td>1</td>\n",
              "      <td>0</td>\n",
              "      <td>0</td>\n",
              "      <td>1</td>\n",
              "      <td>0</td>\n",
              "      <td>0</td>\n",
              "      <td>0</td>\n",
              "      <td>0</td>\n",
              "      <td>1</td>\n",
              "      <td>0</td>\n",
              "      <td>0</td>\n",
              "      <td>1</td>\n",
              "      <td>0</td>\n",
              "      <td>0</td>\n",
              "      <td>0</td>\n",
              "      <td>0</td>\n",
              "      <td>0</td>\n",
              "      <td>1</td>\n",
              "      <td>0</td>\n",
              "      <td>0</td>\n",
              "    </tr>\n",
              "    <tr>\n",
              "      <th>70</th>\n",
              "      <td>1</td>\n",
              "      <td>0</td>\n",
              "      <td>0</td>\n",
              "      <td>0</td>\n",
              "      <td>0</td>\n",
              "      <td>1</td>\n",
              "      <td>0</td>\n",
              "      <td>0</td>\n",
              "      <td>0</td>\n",
              "      <td>0</td>\n",
              "      <td>0</td>\n",
              "      <td>0</td>\n",
              "      <td>0</td>\n",
              "      <td>0</td>\n",
              "      <td>0</td>\n",
              "      <td>0</td>\n",
              "      <td>0</td>\n",
              "      <td>0</td>\n",
              "      <td>0</td>\n",
              "      <td>0</td>\n",
              "      <td>0</td>\n",
              "      <td>0</td>\n",
              "      <td>0</td>\n",
              "      <td>0</td>\n",
              "      <td>0</td>\n",
              "      <td>0</td>\n",
              "      <td>0</td>\n",
              "      <td>0</td>\n",
              "      <td>0</td>\n",
              "      <td>0</td>\n",
              "      <td>0</td>\n",
              "      <td>0</td>\n",
              "      <td>0</td>\n",
              "      <td>0</td>\n",
              "      <td>0</td>\n",
              "      <td>0</td>\n",
              "      <td>0</td>\n",
              "      <td>0</td>\n",
              "      <td>0</td>\n",
              "      <td>0</td>\n",
              "      <td>0</td>\n",
              "      <td>0</td>\n",
              "      <td>0</td>\n",
              "      <td>0</td>\n",
              "      <td>1</td>\n",
              "      <td>0</td>\n",
              "      <td>0</td>\n",
              "      <td>0</td>\n",
              "      <td>0</td>\n",
              "      <td>0</td>\n",
              "      <td>0</td>\n",
              "      <td>0</td>\n",
              "      <td>0</td>\n",
              "      <td>0</td>\n",
              "      <td>0</td>\n",
              "      <td>0</td>\n",
              "      <td>0</td>\n",
              "      <td>0</td>\n",
              "      <td>1</td>\n",
              "      <td>0</td>\n",
              "      <td>0</td>\n",
              "      <td>1</td>\n",
              "      <td>0</td>\n",
              "      <td>0</td>\n",
              "      <td>0</td>\n",
              "      <td>0</td>\n",
              "      <td>1</td>\n",
              "      <td>0</td>\n",
              "      <td>0</td>\n",
              "      <td>1</td>\n",
              "      <td>0</td>\n",
              "      <td>0</td>\n",
              "      <td>0</td>\n",
              "      <td>0</td>\n",
              "      <td>0</td>\n",
              "      <td>1</td>\n",
              "      <td>0</td>\n",
              "      <td>0</td>\n",
              "    </tr>\n",
              "    <tr>\n",
              "      <th>91</th>\n",
              "      <td>0</td>\n",
              "      <td>0</td>\n",
              "      <td>0</td>\n",
              "      <td>0</td>\n",
              "      <td>0</td>\n",
              "      <td>1</td>\n",
              "      <td>0</td>\n",
              "      <td>0</td>\n",
              "      <td>0</td>\n",
              "      <td>0</td>\n",
              "      <td>0</td>\n",
              "      <td>0</td>\n",
              "      <td>0</td>\n",
              "      <td>0</td>\n",
              "      <td>0</td>\n",
              "      <td>0</td>\n",
              "      <td>0</td>\n",
              "      <td>0</td>\n",
              "      <td>0</td>\n",
              "      <td>0</td>\n",
              "      <td>0</td>\n",
              "      <td>0</td>\n",
              "      <td>0</td>\n",
              "      <td>0</td>\n",
              "      <td>0</td>\n",
              "      <td>0</td>\n",
              "      <td>0</td>\n",
              "      <td>1</td>\n",
              "      <td>0</td>\n",
              "      <td>0</td>\n",
              "      <td>0</td>\n",
              "      <td>0</td>\n",
              "      <td>0</td>\n",
              "      <td>0</td>\n",
              "      <td>0</td>\n",
              "      <td>0</td>\n",
              "      <td>0</td>\n",
              "      <td>0</td>\n",
              "      <td>0</td>\n",
              "      <td>0</td>\n",
              "      <td>0</td>\n",
              "      <td>0</td>\n",
              "      <td>0</td>\n",
              "      <td>0</td>\n",
              "      <td>0</td>\n",
              "      <td>0</td>\n",
              "      <td>0</td>\n",
              "      <td>0</td>\n",
              "      <td>0</td>\n",
              "      <td>0</td>\n",
              "      <td>0</td>\n",
              "      <td>0</td>\n",
              "      <td>0</td>\n",
              "      <td>0</td>\n",
              "      <td>0</td>\n",
              "      <td>0</td>\n",
              "      <td>0</td>\n",
              "      <td>0</td>\n",
              "      <td>1</td>\n",
              "      <td>0</td>\n",
              "      <td>0</td>\n",
              "      <td>0</td>\n",
              "      <td>0</td>\n",
              "      <td>0</td>\n",
              "      <td>0</td>\n",
              "      <td>0</td>\n",
              "      <td>0</td>\n",
              "      <td>0</td>\n",
              "      <td>0</td>\n",
              "      <td>0</td>\n",
              "      <td>0</td>\n",
              "      <td>0</td>\n",
              "      <td>1</td>\n",
              "      <td>0</td>\n",
              "      <td>0</td>\n",
              "      <td>1</td>\n",
              "      <td>0</td>\n",
              "      <td>0</td>\n",
              "    </tr>\n",
              "  </tbody>\n",
              "</table>\n",
              "</div>"
            ],
            "text/plain": [
              "    CASE_STATUS  YEAR_2012  ...  SOC_ACCEPTANCE_VHA  SOC_ACCEPTANCE_VLA\n",
              "39  0            0          ...  0                   0                 \n",
              "47  0            0          ...  0                   0                 \n",
              "66  1            0          ...  0                   0                 \n",
              "70  1            0          ...  0                   0                 \n",
              "91  0            0          ...  0                   0                 \n",
              "\n",
              "[5 rows x 78 columns]"
            ]
          },
          "metadata": {
            "tags": []
          },
          "execution_count": 54
        }
      ]
    },
    {
      "cell_type": "code",
      "metadata": {
        "id": "c4a_YwFTbPMH",
        "colab_type": "code",
        "colab": {
          "base_uri": "https://localhost:8080/",
          "height": 34
        },
        "outputId": "e00b0596-3e8b-49f9-ccb5-2657e63e0c98"
      },
      "source": [
        "X_train, X_test, y_train, y_test = train_test_split(final_df_train.iloc[:,1:], final_df_train.iloc[:, 0], test_size = 0.20, random_state=1)\n",
        "#y_train[y_train==1].shape\n",
        "y_test[y_test==1].shape\n"
      ],
      "execution_count": null,
      "outputs": [
        {
          "output_type": "execute_result",
          "data": {
            "text/plain": [
              "(31200,)"
            ]
          },
          "metadata": {
            "tags": []
          },
          "execution_count": 59
        }
      ]
    },
    {
      "cell_type": "code",
      "metadata": {
        "id": "9O66vcjibWTG",
        "colab_type": "code",
        "colab": {
          "base_uri": "https://localhost:8080/",
          "height": 243
        },
        "outputId": "03b25c3f-b5f8-4c78-f46e-cd17a023556d"
      },
      "source": [
        "X_train.head()"
      ],
      "execution_count": null,
      "outputs": [
        {
          "output_type": "execute_result",
          "data": {
            "text/html": [
              "<div>\n",
              "<style scoped>\n",
              "    .dataframe tbody tr th:only-of-type {\n",
              "        vertical-align: middle;\n",
              "    }\n",
              "\n",
              "    .dataframe tbody tr th {\n",
              "        vertical-align: top;\n",
              "    }\n",
              "\n",
              "    .dataframe thead th {\n",
              "        text-align: right;\n",
              "    }\n",
              "</style>\n",
              "<table border=\"1\" class=\"dataframe\">\n",
              "  <thead>\n",
              "    <tr style=\"text-align: right;\">\n",
              "      <th></th>\n",
              "      <th>YEAR_2012</th>\n",
              "      <th>YEAR_2013</th>\n",
              "      <th>YEAR_2014</th>\n",
              "      <th>YEAR_2015</th>\n",
              "      <th>YEAR_2016</th>\n",
              "      <th>WORKSITE_ALASKA</th>\n",
              "      <th>WORKSITE_ARIZONA</th>\n",
              "      <th>WORKSITE_ARKANSAS</th>\n",
              "      <th>WORKSITE_CALIFORNIA</th>\n",
              "      <th>WORKSITE_COLORADO</th>\n",
              "      <th>WORKSITE_CONNECTICUT</th>\n",
              "      <th>WORKSITE_DELAWARE</th>\n",
              "      <th>WORKSITE_DISTRICT OF COLUMBIA</th>\n",
              "      <th>WORKSITE_FLORIDA</th>\n",
              "      <th>WORKSITE_GEORGIA</th>\n",
              "      <th>WORKSITE_HAWAII</th>\n",
              "      <th>WORKSITE_IDAHO</th>\n",
              "      <th>WORKSITE_ILLINOIS</th>\n",
              "      <th>WORKSITE_INDIANA</th>\n",
              "      <th>WORKSITE_IOWA</th>\n",
              "      <th>WORKSITE_KANSAS</th>\n",
              "      <th>WORKSITE_KENTUCKY</th>\n",
              "      <th>WORKSITE_LOUISIANA</th>\n",
              "      <th>WORKSITE_MAINE</th>\n",
              "      <th>WORKSITE_MARYLAND</th>\n",
              "      <th>WORKSITE_MASSACHUSETTS</th>\n",
              "      <th>WORKSITE_MICHIGAN</th>\n",
              "      <th>WORKSITE_MINNESOTA</th>\n",
              "      <th>WORKSITE_MISSISSIPPI</th>\n",
              "      <th>WORKSITE_MISSOURI</th>\n",
              "      <th>WORKSITE_MONTANA</th>\n",
              "      <th>WORKSITE_NA</th>\n",
              "      <th>WORKSITE_NEBRASKA</th>\n",
              "      <th>WORKSITE_NEVADA</th>\n",
              "      <th>WORKSITE_NEW HAMPSHIRE</th>\n",
              "      <th>WORKSITE_NEW JERSEY</th>\n",
              "      <th>WORKSITE_NEW MEXICO</th>\n",
              "      <th>WORKSITE_NEW YORK</th>\n",
              "      <th>WORKSITE_NORTH CAROLINA</th>\n",
              "      <th>WORKSITE_NORTH DAKOTA</th>\n",
              "      <th>WORKSITE_OHIO</th>\n",
              "      <th>WORKSITE_OKLAHOMA</th>\n",
              "      <th>WORKSITE_OREGON</th>\n",
              "      <th>WORKSITE_PENNSYLVANIA</th>\n",
              "      <th>WORKSITE_PUERTO RICO</th>\n",
              "      <th>WORKSITE_RHODE ISLAND</th>\n",
              "      <th>WORKSITE_SOUTH CAROLINA</th>\n",
              "      <th>WORKSITE_SOUTH DAKOTA</th>\n",
              "      <th>WORKSITE_TENNESSEE</th>\n",
              "      <th>WORKSITE_TEXAS</th>\n",
              "      <th>WORKSITE_UTAH</th>\n",
              "      <th>WORKSITE_VERMONT</th>\n",
              "      <th>WORKSITE_VIRGINIA</th>\n",
              "      <th>WORKSITE_WASHINGTON</th>\n",
              "      <th>WORKSITE_WEST VIRGINIA</th>\n",
              "      <th>WORKSITE_WISCONSIN</th>\n",
              "      <th>WORKSITE_WYOMING</th>\n",
              "      <th>FULL_TIME_POSITION_1</th>\n",
              "      <th>WAGE_CATEGORY_LOW</th>\n",
              "      <th>WAGE_CATEGORY_MEDIUM</th>\n",
              "      <th>WAGE_CATEGORY_VERY HIGH</th>\n",
              "      <th>WAGE_CATEGORY_VERY LOW</th>\n",
              "      <th>EMPLOYER_ACCEPTANCE_HA</th>\n",
              "      <th>EMPLOYER_ACCEPTANCE_LA</th>\n",
              "      <th>EMPLOYER_ACCEPTANCE_MA</th>\n",
              "      <th>EMPLOYER_ACCEPTANCE_VHA</th>\n",
              "      <th>EMPLOYER_ACCEPTANCE_VLA</th>\n",
              "      <th>JOB_ACCEPTANCE_HA</th>\n",
              "      <th>JOB_ACCEPTANCE_LA</th>\n",
              "      <th>JOB_ACCEPTANCE_MA</th>\n",
              "      <th>JOB_ACCEPTANCE_VHA</th>\n",
              "      <th>JOB_ACCEPTANCE_VLA</th>\n",
              "      <th>SOC_ACCEPTANCE_HA</th>\n",
              "      <th>SOC_ACCEPTANCE_LA</th>\n",
              "      <th>SOC_ACCEPTANCE_MA</th>\n",
              "      <th>SOC_ACCEPTANCE_VHA</th>\n",
              "      <th>SOC_ACCEPTANCE_VLA</th>\n",
              "    </tr>\n",
              "  </thead>\n",
              "  <tbody>\n",
              "    <tr>\n",
              "      <th>363034</th>\n",
              "      <td>0</td>\n",
              "      <td>0</td>\n",
              "      <td>0</td>\n",
              "      <td>0</td>\n",
              "      <td>1</td>\n",
              "      <td>0</td>\n",
              "      <td>0</td>\n",
              "      <td>0</td>\n",
              "      <td>0</td>\n",
              "      <td>0</td>\n",
              "      <td>0</td>\n",
              "      <td>0</td>\n",
              "      <td>0</td>\n",
              "      <td>0</td>\n",
              "      <td>0</td>\n",
              "      <td>0</td>\n",
              "      <td>0</td>\n",
              "      <td>0</td>\n",
              "      <td>0</td>\n",
              "      <td>0</td>\n",
              "      <td>0</td>\n",
              "      <td>0</td>\n",
              "      <td>0</td>\n",
              "      <td>0</td>\n",
              "      <td>0</td>\n",
              "      <td>0</td>\n",
              "      <td>0</td>\n",
              "      <td>0</td>\n",
              "      <td>0</td>\n",
              "      <td>0</td>\n",
              "      <td>0</td>\n",
              "      <td>0</td>\n",
              "      <td>0</td>\n",
              "      <td>0</td>\n",
              "      <td>0</td>\n",
              "      <td>0</td>\n",
              "      <td>0</td>\n",
              "      <td>0</td>\n",
              "      <td>0</td>\n",
              "      <td>0</td>\n",
              "      <td>0</td>\n",
              "      <td>0</td>\n",
              "      <td>0</td>\n",
              "      <td>0</td>\n",
              "      <td>0</td>\n",
              "      <td>0</td>\n",
              "      <td>0</td>\n",
              "      <td>0</td>\n",
              "      <td>0</td>\n",
              "      <td>0</td>\n",
              "      <td>0</td>\n",
              "      <td>0</td>\n",
              "      <td>0</td>\n",
              "      <td>1</td>\n",
              "      <td>0</td>\n",
              "      <td>0</td>\n",
              "      <td>0</td>\n",
              "      <td>1</td>\n",
              "      <td>0</td>\n",
              "      <td>1</td>\n",
              "      <td>0</td>\n",
              "      <td>0</td>\n",
              "      <td>0</td>\n",
              "      <td>0</td>\n",
              "      <td>0</td>\n",
              "      <td>0</td>\n",
              "      <td>0</td>\n",
              "      <td>1</td>\n",
              "      <td>0</td>\n",
              "      <td>0</td>\n",
              "      <td>0</td>\n",
              "      <td>0</td>\n",
              "      <td>0</td>\n",
              "      <td>0</td>\n",
              "      <td>0</td>\n",
              "      <td>1</td>\n",
              "      <td>0</td>\n",
              "    </tr>\n",
              "    <tr>\n",
              "      <th>2794144</th>\n",
              "      <td>0</td>\n",
              "      <td>0</td>\n",
              "      <td>0</td>\n",
              "      <td>0</td>\n",
              "      <td>0</td>\n",
              "      <td>0</td>\n",
              "      <td>0</td>\n",
              "      <td>0</td>\n",
              "      <td>0</td>\n",
              "      <td>0</td>\n",
              "      <td>0</td>\n",
              "      <td>0</td>\n",
              "      <td>0</td>\n",
              "      <td>0</td>\n",
              "      <td>0</td>\n",
              "      <td>0</td>\n",
              "      <td>0</td>\n",
              "      <td>0</td>\n",
              "      <td>0</td>\n",
              "      <td>0</td>\n",
              "      <td>0</td>\n",
              "      <td>0</td>\n",
              "      <td>0</td>\n",
              "      <td>0</td>\n",
              "      <td>0</td>\n",
              "      <td>1</td>\n",
              "      <td>0</td>\n",
              "      <td>0</td>\n",
              "      <td>0</td>\n",
              "      <td>0</td>\n",
              "      <td>0</td>\n",
              "      <td>0</td>\n",
              "      <td>0</td>\n",
              "      <td>0</td>\n",
              "      <td>0</td>\n",
              "      <td>0</td>\n",
              "      <td>0</td>\n",
              "      <td>0</td>\n",
              "      <td>0</td>\n",
              "      <td>0</td>\n",
              "      <td>0</td>\n",
              "      <td>0</td>\n",
              "      <td>0</td>\n",
              "      <td>0</td>\n",
              "      <td>0</td>\n",
              "      <td>0</td>\n",
              "      <td>0</td>\n",
              "      <td>0</td>\n",
              "      <td>0</td>\n",
              "      <td>0</td>\n",
              "      <td>0</td>\n",
              "      <td>0</td>\n",
              "      <td>0</td>\n",
              "      <td>0</td>\n",
              "      <td>0</td>\n",
              "      <td>0</td>\n",
              "      <td>0</td>\n",
              "      <td>1</td>\n",
              "      <td>1</td>\n",
              "      <td>0</td>\n",
              "      <td>0</td>\n",
              "      <td>0</td>\n",
              "      <td>0</td>\n",
              "      <td>0</td>\n",
              "      <td>0</td>\n",
              "      <td>1</td>\n",
              "      <td>0</td>\n",
              "      <td>1</td>\n",
              "      <td>0</td>\n",
              "      <td>0</td>\n",
              "      <td>0</td>\n",
              "      <td>0</td>\n",
              "      <td>1</td>\n",
              "      <td>0</td>\n",
              "      <td>0</td>\n",
              "      <td>0</td>\n",
              "      <td>0</td>\n",
              "    </tr>\n",
              "    <tr>\n",
              "      <th>2298633</th>\n",
              "      <td>1</td>\n",
              "      <td>0</td>\n",
              "      <td>0</td>\n",
              "      <td>0</td>\n",
              "      <td>0</td>\n",
              "      <td>0</td>\n",
              "      <td>0</td>\n",
              "      <td>0</td>\n",
              "      <td>0</td>\n",
              "      <td>0</td>\n",
              "      <td>0</td>\n",
              "      <td>0</td>\n",
              "      <td>0</td>\n",
              "      <td>0</td>\n",
              "      <td>0</td>\n",
              "      <td>0</td>\n",
              "      <td>0</td>\n",
              "      <td>0</td>\n",
              "      <td>0</td>\n",
              "      <td>0</td>\n",
              "      <td>0</td>\n",
              "      <td>0</td>\n",
              "      <td>0</td>\n",
              "      <td>0</td>\n",
              "      <td>0</td>\n",
              "      <td>0</td>\n",
              "      <td>0</td>\n",
              "      <td>0</td>\n",
              "      <td>0</td>\n",
              "      <td>0</td>\n",
              "      <td>0</td>\n",
              "      <td>0</td>\n",
              "      <td>0</td>\n",
              "      <td>0</td>\n",
              "      <td>0</td>\n",
              "      <td>0</td>\n",
              "      <td>0</td>\n",
              "      <td>1</td>\n",
              "      <td>0</td>\n",
              "      <td>0</td>\n",
              "      <td>0</td>\n",
              "      <td>0</td>\n",
              "      <td>0</td>\n",
              "      <td>0</td>\n",
              "      <td>0</td>\n",
              "      <td>0</td>\n",
              "      <td>0</td>\n",
              "      <td>0</td>\n",
              "      <td>0</td>\n",
              "      <td>0</td>\n",
              "      <td>0</td>\n",
              "      <td>0</td>\n",
              "      <td>0</td>\n",
              "      <td>0</td>\n",
              "      <td>0</td>\n",
              "      <td>0</td>\n",
              "      <td>0</td>\n",
              "      <td>1</td>\n",
              "      <td>1</td>\n",
              "      <td>0</td>\n",
              "      <td>0</td>\n",
              "      <td>0</td>\n",
              "      <td>0</td>\n",
              "      <td>0</td>\n",
              "      <td>1</td>\n",
              "      <td>0</td>\n",
              "      <td>0</td>\n",
              "      <td>0</td>\n",
              "      <td>0</td>\n",
              "      <td>1</td>\n",
              "      <td>0</td>\n",
              "      <td>0</td>\n",
              "      <td>1</td>\n",
              "      <td>0</td>\n",
              "      <td>0</td>\n",
              "      <td>0</td>\n",
              "      <td>0</td>\n",
              "    </tr>\n",
              "    <tr>\n",
              "      <th>256430</th>\n",
              "      <td>0</td>\n",
              "      <td>0</td>\n",
              "      <td>0</td>\n",
              "      <td>0</td>\n",
              "      <td>1</td>\n",
              "      <td>0</td>\n",
              "      <td>0</td>\n",
              "      <td>0</td>\n",
              "      <td>1</td>\n",
              "      <td>0</td>\n",
              "      <td>0</td>\n",
              "      <td>0</td>\n",
              "      <td>0</td>\n",
              "      <td>0</td>\n",
              "      <td>0</td>\n",
              "      <td>0</td>\n",
              "      <td>0</td>\n",
              "      <td>0</td>\n",
              "      <td>0</td>\n",
              "      <td>0</td>\n",
              "      <td>0</td>\n",
              "      <td>0</td>\n",
              "      <td>0</td>\n",
              "      <td>0</td>\n",
              "      <td>0</td>\n",
              "      <td>0</td>\n",
              "      <td>0</td>\n",
              "      <td>0</td>\n",
              "      <td>0</td>\n",
              "      <td>0</td>\n",
              "      <td>0</td>\n",
              "      <td>0</td>\n",
              "      <td>0</td>\n",
              "      <td>0</td>\n",
              "      <td>0</td>\n",
              "      <td>0</td>\n",
              "      <td>0</td>\n",
              "      <td>0</td>\n",
              "      <td>0</td>\n",
              "      <td>0</td>\n",
              "      <td>0</td>\n",
              "      <td>0</td>\n",
              "      <td>0</td>\n",
              "      <td>0</td>\n",
              "      <td>0</td>\n",
              "      <td>0</td>\n",
              "      <td>0</td>\n",
              "      <td>0</td>\n",
              "      <td>0</td>\n",
              "      <td>0</td>\n",
              "      <td>0</td>\n",
              "      <td>0</td>\n",
              "      <td>0</td>\n",
              "      <td>0</td>\n",
              "      <td>0</td>\n",
              "      <td>0</td>\n",
              "      <td>0</td>\n",
              "      <td>0</td>\n",
              "      <td>1</td>\n",
              "      <td>0</td>\n",
              "      <td>0</td>\n",
              "      <td>0</td>\n",
              "      <td>0</td>\n",
              "      <td>0</td>\n",
              "      <td>0</td>\n",
              "      <td>1</td>\n",
              "      <td>0</td>\n",
              "      <td>1</td>\n",
              "      <td>0</td>\n",
              "      <td>0</td>\n",
              "      <td>0</td>\n",
              "      <td>0</td>\n",
              "      <td>0</td>\n",
              "      <td>0</td>\n",
              "      <td>0</td>\n",
              "      <td>1</td>\n",
              "      <td>0</td>\n",
              "    </tr>\n",
              "    <tr>\n",
              "      <th>2924319</th>\n",
              "      <td>0</td>\n",
              "      <td>0</td>\n",
              "      <td>0</td>\n",
              "      <td>0</td>\n",
              "      <td>0</td>\n",
              "      <td>0</td>\n",
              "      <td>0</td>\n",
              "      <td>0</td>\n",
              "      <td>0</td>\n",
              "      <td>0</td>\n",
              "      <td>0</td>\n",
              "      <td>0</td>\n",
              "      <td>0</td>\n",
              "      <td>0</td>\n",
              "      <td>0</td>\n",
              "      <td>0</td>\n",
              "      <td>0</td>\n",
              "      <td>0</td>\n",
              "      <td>0</td>\n",
              "      <td>0</td>\n",
              "      <td>0</td>\n",
              "      <td>0</td>\n",
              "      <td>0</td>\n",
              "      <td>0</td>\n",
              "      <td>0</td>\n",
              "      <td>0</td>\n",
              "      <td>0</td>\n",
              "      <td>0</td>\n",
              "      <td>0</td>\n",
              "      <td>0</td>\n",
              "      <td>0</td>\n",
              "      <td>0</td>\n",
              "      <td>0</td>\n",
              "      <td>0</td>\n",
              "      <td>0</td>\n",
              "      <td>0</td>\n",
              "      <td>0</td>\n",
              "      <td>0</td>\n",
              "      <td>0</td>\n",
              "      <td>0</td>\n",
              "      <td>0</td>\n",
              "      <td>0</td>\n",
              "      <td>0</td>\n",
              "      <td>1</td>\n",
              "      <td>0</td>\n",
              "      <td>0</td>\n",
              "      <td>0</td>\n",
              "      <td>0</td>\n",
              "      <td>0</td>\n",
              "      <td>0</td>\n",
              "      <td>0</td>\n",
              "      <td>0</td>\n",
              "      <td>0</td>\n",
              "      <td>0</td>\n",
              "      <td>0</td>\n",
              "      <td>0</td>\n",
              "      <td>0</td>\n",
              "      <td>1</td>\n",
              "      <td>1</td>\n",
              "      <td>0</td>\n",
              "      <td>0</td>\n",
              "      <td>0</td>\n",
              "      <td>1</td>\n",
              "      <td>0</td>\n",
              "      <td>0</td>\n",
              "      <td>0</td>\n",
              "      <td>0</td>\n",
              "      <td>0</td>\n",
              "      <td>0</td>\n",
              "      <td>0</td>\n",
              "      <td>1</td>\n",
              "      <td>0</td>\n",
              "      <td>1</td>\n",
              "      <td>0</td>\n",
              "      <td>0</td>\n",
              "      <td>0</td>\n",
              "      <td>0</td>\n",
              "    </tr>\n",
              "  </tbody>\n",
              "</table>\n",
              "</div>"
            ],
            "text/plain": [
              "         YEAR_2012  YEAR_2013  ...  SOC_ACCEPTANCE_VHA  SOC_ACCEPTANCE_VLA\n",
              "363034   0          0          ...  1                   0                 \n",
              "2794144  0          0          ...  0                   0                 \n",
              "2298633  1          0          ...  0                   0                 \n",
              "256430   0          0          ...  1                   0                 \n",
              "2924319  0          0          ...  0                   0                 \n",
              "\n",
              "[5 rows x 77 columns]"
            ]
          },
          "metadata": {
            "tags": []
          },
          "execution_count": 60
        }
      ]
    },
    {
      "cell_type": "markdown",
      "metadata": {
        "id": "YZHxbMWqn3Mk",
        "colab_type": "text"
      },
      "source": [
        "# Training classifiers"
      ]
    },
    {
      "cell_type": "code",
      "metadata": {
        "id": "ilv5AgwAn1V4",
        "colab_type": "code",
        "colab": {}
      },
      "source": [
        ""
      ],
      "execution_count": null,
      "outputs": []
    },
    {
      "cell_type": "markdown",
      "metadata": {
        "id": "ojlTr8URn5p6",
        "colab_type": "text"
      },
      "source": [
        "## Decision Tree Model"
      ]
    },
    {
      "cell_type": "code",
      "metadata": {
        "id": "sWki9bRxbaOt",
        "colab_type": "code",
        "colab": {}
      },
      "source": [
        "dtree = tree.DecisionTreeClassifier()\n",
        "dtree = dtree.fit(X_train, y_train)"
      ],
      "execution_count": null,
      "outputs": []
    },
    {
      "cell_type": "code",
      "metadata": {
        "id": "ux_1Bj4XbeCS",
        "colab_type": "code",
        "colab": {
          "base_uri": "https://localhost:8080/",
          "height": 433
        },
        "outputId": "5179fd55-2c6c-462f-8846-e67358d53804"
      },
      "source": [
        "y_pred = dtree.predict(X_test)\n",
        "\n",
        "y_prob = dtree.predict_proba(X_test)\n",
        "\n",
        "print(\"test\", y_test[:10])\n",
        "print(\"pred\", y_pred[:10])\n",
        "print()\n",
        "\n",
        "print(metrics.confusion_matrix(y_test,y_pred))\n",
        "print(metrics.classification_report(y_test, y_pred))\n",
        "#print(metrics.precision_score(y_test,y_pred))   # Parameter \"average\" is requred if not a binary model\n",
        "#print(metrics.recall_score(y_test,y_pred))      # Parameter \"average\" is requred if not a binary model\n",
        "#print(metrics.f1_score(y_test,y_pred)) "
      ],
      "execution_count": null,
      "outputs": [
        {
          "output_type": "stream",
          "text": [
            "test 1069287    1\n",
            "608355     0\n",
            "873557     1\n",
            "2063899    0\n",
            "879488     1\n",
            "2280957    1\n",
            "564762     0\n",
            "2784493    1\n",
            "2531141    1\n",
            "718033     0\n",
            "Name: CASE_STATUS, dtype: int64\n",
            "pred [1 0 1 0 1 1 0 1 1 1]\n",
            "\n",
            "[[14891  3864]\n",
            " [ 2305 28895]]\n",
            "              precision    recall  f1-score   support\n",
            "\n",
            "           0       0.87      0.79      0.83     18755\n",
            "           1       0.88      0.93      0.90     31200\n",
            "\n",
            "    accuracy                           0.88     49955\n",
            "   macro avg       0.87      0.86      0.87     49955\n",
            "weighted avg       0.88      0.88      0.88     49955\n",
            "\n"
          ],
          "name": "stdout"
        }
      ]
    },
    {
      "cell_type": "markdown",
      "metadata": {
        "id": "Csbn_MlMoDGl",
        "colab_type": "text"
      },
      "source": [
        "## Logistic Regression Model"
      ]
    },
    {
      "cell_type": "code",
      "metadata": {
        "id": "EWJxF9nNbjbd",
        "colab_type": "code",
        "colab": {
          "base_uri": "https://localhost:8080/",
          "height": 242
        },
        "outputId": "64ea05f1-60ee-4b6d-a6d2-85a316254cf6"
      },
      "source": [
        "lr_clf = linear_model.LogisticRegression()\n",
        "lr_clf.fit(X_train, y_train)"
      ],
      "execution_count": null,
      "outputs": [
        {
          "output_type": "stream",
          "text": [
            "/usr/local/lib/python3.6/dist-packages/sklearn/linear_model/_logistic.py:940: ConvergenceWarning: lbfgs failed to converge (status=1):\n",
            "STOP: TOTAL NO. of ITERATIONS REACHED LIMIT.\n",
            "\n",
            "Increase the number of iterations (max_iter) or scale the data as shown in:\n",
            "    https://scikit-learn.org/stable/modules/preprocessing.html\n",
            "Please also refer to the documentation for alternative solver options:\n",
            "    https://scikit-learn.org/stable/modules/linear_model.html#logistic-regression\n",
            "  extra_warning_msg=_LOGISTIC_SOLVER_CONVERGENCE_MSG)\n"
          ],
          "name": "stderr"
        },
        {
          "output_type": "execute_result",
          "data": {
            "text/plain": [
              "LogisticRegression(C=1.0, class_weight=None, dual=False, fit_intercept=True,\n",
              "                   intercept_scaling=1, l1_ratio=None, max_iter=100,\n",
              "                   multi_class='auto', n_jobs=None, penalty='l2',\n",
              "                   random_state=None, solver='lbfgs', tol=0.0001, verbose=0,\n",
              "                   warm_start=False)"
            ]
          },
          "metadata": {
            "tags": []
          },
          "execution_count": 63
        }
      ]
    },
    {
      "cell_type": "code",
      "metadata": {
        "id": "tDxTYrwKbnEh",
        "colab_type": "code",
        "colab": {
          "base_uri": "https://localhost:8080/",
          "height": 415
        },
        "outputId": "e62800b9-0122-4617-ecc3-29fa388230e4"
      },
      "source": [
        "y_pred_lr = lr_clf.predict(X_test)\n",
        "\n",
        "probs = lr_clf.predict_proba(X_test)\n",
        "\n",
        "print(\"test\", y_test[:10])\n",
        "print(\"pred\", y_pred_lr[:10])\n",
        "\n",
        "print(metrics.confusion_matrix(y_test,y_pred_lr))\n",
        "print(metrics.classification_report(y_test, y_pred_lr))\n",
        "#print(metrics.precision_score(y_test,y_pred))   # Parameter \"average\" is requred if not a binary model\n",
        "#print(metrics.recall_score(y_test,y_pred))      # Parameter \"average\" is requred if not a binary model\n",
        "#print(metrics.f1_score(y_test,y_pred))"
      ],
      "execution_count": null,
      "outputs": [
        {
          "output_type": "stream",
          "text": [
            "test 1069287    1\n",
            "608355     0\n",
            "873557     1\n",
            "2063899    0\n",
            "879488     1\n",
            "2280957    1\n",
            "564762     0\n",
            "2784493    1\n",
            "2531141    1\n",
            "718033     0\n",
            "Name: CASE_STATUS, dtype: int64\n",
            "pred [1 0 1 0 1 1 0 1 1 1]\n",
            "[[14558  4197]\n",
            " [ 1237 29963]]\n",
            "              precision    recall  f1-score   support\n",
            "\n",
            "           0       0.92      0.78      0.84     18755\n",
            "           1       0.88      0.96      0.92     31200\n",
            "\n",
            "    accuracy                           0.89     49955\n",
            "   macro avg       0.90      0.87      0.88     49955\n",
            "weighted avg       0.89      0.89      0.89     49955\n",
            "\n"
          ],
          "name": "stdout"
        }
      ]
    },
    {
      "cell_type": "markdown",
      "metadata": {
        "id": "0WQUAxLkoJk-",
        "colab_type": "text"
      },
      "source": [
        "## Random Forest Classifier"
      ]
    },
    {
      "cell_type": "code",
      "metadata": {
        "id": "AEG8HEFobxPY",
        "colab_type": "code",
        "colab": {
          "base_uri": "https://localhost:8080/",
          "height": 155
        },
        "outputId": "7c2d486d-6afb-47c2-efac-9d370feb51c1"
      },
      "source": [
        "rf = RandomForestClassifier(n_estimators = 75, random_state = 50)\n",
        "# Train the model on training data\n",
        "rf.fit(X_train, y_train)"
      ],
      "execution_count": null,
      "outputs": [
        {
          "output_type": "execute_result",
          "data": {
            "text/plain": [
              "RandomForestClassifier(bootstrap=True, ccp_alpha=0.0, class_weight=None,\n",
              "                       criterion='gini', max_depth=None, max_features='auto',\n",
              "                       max_leaf_nodes=None, max_samples=None,\n",
              "                       min_impurity_decrease=0.0, min_impurity_split=None,\n",
              "                       min_samples_leaf=1, min_samples_split=2,\n",
              "                       min_weight_fraction_leaf=0.0, n_estimators=75,\n",
              "                       n_jobs=None, oob_score=False, random_state=50, verbose=0,\n",
              "                       warm_start=False)"
            ]
          },
          "metadata": {
            "tags": []
          },
          "execution_count": 65
        }
      ]
    },
    {
      "cell_type": "code",
      "metadata": {
        "id": "EINBb7Jub7jc",
        "colab_type": "code",
        "colab": {
          "base_uri": "https://localhost:8080/",
          "height": 415
        },
        "outputId": "06f7748d-350e-473d-ab5f-597d10761f20"
      },
      "source": [
        "y_pred_rf =  rf.predict(X_test)\n",
        "probs = rf.predict_proba(X_test)\n",
        "\n",
        "print(\"test\", y_test[:10])\n",
        "print(\"pred\", y_pred[:10])\n",
        "print(metrics.confusion_matrix(y_test,y_pred_rf))\n",
        "print(metrics.classification_report(y_test, y_pred_rf))\n",
        "#print(metrics.precision_score(y_test,y_pred_rf))   # Parameter \"average\" is requred if not a binary model\n",
        "#print(metrics.recall_score(y_test,y_pred))\n",
        "#print(metrics.f1_score(y_test, y_pred))# Parameter \"average\" is requred if not a binary model"
      ],
      "execution_count": null,
      "outputs": [
        {
          "output_type": "stream",
          "text": [
            "test 1069287    1\n",
            "608355     0\n",
            "873557     1\n",
            "2063899    0\n",
            "879488     1\n",
            "2280957    1\n",
            "564762     0\n",
            "2784493    1\n",
            "2531141    1\n",
            "718033     0\n",
            "Name: CASE_STATUS, dtype: int64\n",
            "pred [1 0 1 0 1 1 0 1 1 1]\n",
            "[[14740  4015]\n",
            " [ 1928 29272]]\n",
            "              precision    recall  f1-score   support\n",
            "\n",
            "           0       0.88      0.79      0.83     18755\n",
            "           1       0.88      0.94      0.91     31200\n",
            "\n",
            "    accuracy                           0.88     49955\n",
            "   macro avg       0.88      0.86      0.87     49955\n",
            "weighted avg       0.88      0.88      0.88     49955\n",
            "\n"
          ],
          "name": "stdout"
        }
      ]
    },
    {
      "cell_type": "markdown",
      "metadata": {
        "id": "kDKT14JFoSpX",
        "colab_type": "text"
      },
      "source": [
        "## Artificial Neural Networks"
      ]
    },
    {
      "cell_type": "code",
      "metadata": {
        "id": "SzpKrKm5cMnx",
        "colab_type": "code",
        "colab": {
          "base_uri": "https://localhost:8080/",
          "height": 155
        },
        "outputId": "1348749c-5ce7-4bea-c626-91944eed804c"
      },
      "source": [
        "mlp = MLPClassifier(hidden_layer_sizes=(20,20,20,20,20), max_iter=1000)\n",
        "mlp.fit(X_train, y_train)"
      ],
      "execution_count": null,
      "outputs": [
        {
          "output_type": "execute_result",
          "data": {
            "text/plain": [
              "MLPClassifier(activation='relu', alpha=0.0001, batch_size='auto', beta_1=0.9,\n",
              "              beta_2=0.999, early_stopping=False, epsilon=1e-08,\n",
              "              hidden_layer_sizes=(20, 20, 20, 20, 20), learning_rate='constant',\n",
              "              learning_rate_init=0.001, max_fun=15000, max_iter=1000,\n",
              "              momentum=0.9, n_iter_no_change=10, nesterovs_momentum=True,\n",
              "              power_t=0.5, random_state=None, shuffle=True, solver='adam',\n",
              "              tol=0.0001, validation_fraction=0.1, verbose=False,\n",
              "              warm_start=False)"
            ]
          },
          "metadata": {
            "tags": []
          },
          "execution_count": 67
        }
      ]
    },
    {
      "cell_type": "code",
      "metadata": {
        "id": "0ICGIRO0iEYX",
        "colab_type": "code",
        "colab": {
          "base_uri": "https://localhost:8080/",
          "height": 207
        },
        "outputId": "2403595d-59ae-425b-ef16-6bf1aa4a91fc"
      },
      "source": [
        "y_pred_mlp = mlp.predict(X_test)\n",
        "confusion = metrics.confusion_matrix(y_test, y_pred_mlp)\n",
        "print(confusion)\n",
        "print(metrics.classification_report(y_test, y_pred_mlp))"
      ],
      "execution_count": null,
      "outputs": [
        {
          "output_type": "stream",
          "text": [
            "[[14673  4082]\n",
            " [ 1372 29828]]\n",
            "              precision    recall  f1-score   support\n",
            "\n",
            "           0       0.91      0.78      0.84     18755\n",
            "           1       0.88      0.96      0.92     31200\n",
            "\n",
            "    accuracy                           0.89     49955\n",
            "   macro avg       0.90      0.87      0.88     49955\n",
            "weighted avg       0.89      0.89      0.89     49955\n",
            "\n"
          ],
          "name": "stdout"
        }
      ]
    },
    {
      "cell_type": "markdown",
      "metadata": {
        "id": "B5yroL3QoWhn",
        "colab_type": "text"
      },
      "source": [
        "## Gaussian Naive Bayes Classifier"
      ]
    },
    {
      "cell_type": "code",
      "metadata": {
        "id": "tbaAUD_OiQi6",
        "colab_type": "code",
        "colab": {
          "base_uri": "https://localhost:8080/",
          "height": 34
        },
        "outputId": "79b78219-4643-4f72-db0e-7a509324d9e8"
      },
      "source": [
        "gaus_clf = GaussianNB()\n",
        "gaus_clf.fit(X_train, y_train)"
      ],
      "execution_count": null,
      "outputs": [
        {
          "output_type": "execute_result",
          "data": {
            "text/plain": [
              "GaussianNB(priors=None, var_smoothing=1e-09)"
            ]
          },
          "metadata": {
            "tags": []
          },
          "execution_count": 69
        }
      ]
    },
    {
      "cell_type": "code",
      "metadata": {
        "id": "zRu0GJxxiSy3",
        "colab_type": "code",
        "colab": {
          "base_uri": "https://localhost:8080/",
          "height": 207
        },
        "outputId": "2e7fcaef-ed93-44e9-8e99-b4a911d0b9d6"
      },
      "source": [
        "y_pred_glb = gaus_clf.predict(X_test)\n",
        "confusion = metrics.confusion_matrix(y_test, y_pred_glb)\n",
        "print(confusion)\n",
        "print(metrics.classification_report(y_test, y_pred_glb))"
      ],
      "execution_count": null,
      "outputs": [
        {
          "output_type": "stream",
          "text": [
            "[[ 7770 10985]\n",
            " [ 2574 28626]]\n",
            "              precision    recall  f1-score   support\n",
            "\n",
            "           0       0.75      0.41      0.53     18755\n",
            "           1       0.72      0.92      0.81     31200\n",
            "\n",
            "    accuracy                           0.73     49955\n",
            "   macro avg       0.74      0.67      0.67     49955\n",
            "weighted avg       0.73      0.73      0.71     49955\n",
            "\n"
          ],
          "name": "stdout"
        }
      ]
    },
    {
      "cell_type": "code",
      "metadata": {
        "id": "3R2_5zg8muO8",
        "colab_type": "code",
        "colab": {}
      },
      "source": [
        ""
      ],
      "execution_count": null,
      "outputs": []
    }
  ]
}